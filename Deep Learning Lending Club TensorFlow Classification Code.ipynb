{
 "cells": [
  {
   "cell_type": "markdown",
   "metadata": {},
   "source": [
    "# Keras API Project Exercise\n",
    "\n",
    "## The Data\n",
    "\n",
    "We will be using a subset of the LendingClub DataSet obtained from Kaggle.\n",
    "\n",
    "LendingClub is a US peer-to-peer lending company, headquartered in San Francisco, California. It was the first peer-to-peer lender to register its offerings as securities with the Securities and Exchange Commission (SEC), and to offer loan trading on a secondary market. LendingClub is the world's largest peer-to-peer lending platform.\n",
    "\n",
    "### Our Goal\n",
    "\n",
    "Given historical data on loans given out with information on whether or not the borrower defaulted (charge-off), we build a model that can predict wether or nor a borrower will pay back their loan? This way in the future when we get a new potential customer we can assess whether or not they are likely to pay back the loan. \n",
    "\n",
    "The \"loan_status\" column contains our label.\n",
    "\n",
    "### Data Overview"
   ]
  },
  {
   "cell_type": "markdown",
   "metadata": {},
   "source": [
    "----\n",
    "-----\n",
    "There are many LendingClub data sets on Kaggle. Here is the information on this particular data set:\n",
    "\n",
    "<table border=\"1\" class=\"dataframe\">\n",
    "  <thead>\n",
    "    <tr style=\"text-align: right;\">\n",
    "      <th></th>\n",
    "      <th>LoanStatNew</th>\n",
    "      <th>Description</th>\n",
    "    </tr>\n",
    "  </thead>\n",
    "  <tbody>\n",
    "    <tr>\n",
    "      <th>0</th>\n",
    "      <td>loan_amnt</td>\n",
    "      <td>The listed amount of the loan applied for by the borrower. If at some point in time, the credit department reduces the loan amount, then it will be reflected in this value.</td>\n",
    "    </tr>\n",
    "    <tr>\n",
    "      <th>1</th>\n",
    "      <td>term</td>\n",
    "      <td>The number of payments on the loan. Values are in months and can be either 36 or 60.</td>\n",
    "    </tr>\n",
    "    <tr>\n",
    "      <th>2</th>\n",
    "      <td>int_rate</td>\n",
    "      <td>Interest Rate on the loan</td>\n",
    "    </tr>\n",
    "    <tr>\n",
    "      <th>3</th>\n",
    "      <td>installment</td>\n",
    "      <td>The monthly payment owed by the borrower if the loan originates.</td>\n",
    "    </tr>\n",
    "    <tr>\n",
    "      <th>4</th>\n",
    "      <td>grade</td>\n",
    "      <td>LC assigned loan grade</td>\n",
    "    </tr>\n",
    "    <tr>\n",
    "      <th>5</th>\n",
    "      <td>sub_grade</td>\n",
    "      <td>LC assigned loan subgrade</td>\n",
    "    </tr>\n",
    "    <tr>\n",
    "      <th>6</th>\n",
    "      <td>emp_title</td>\n",
    "      <td>The job title supplied by the Borrower when applying for the loan.*</td>\n",
    "    </tr>\n",
    "    <tr>\n",
    "      <th>7</th>\n",
    "      <td>emp_length</td>\n",
    "      <td>Employment length in years. Possible values are between 0 and 10 where 0 means less than one year and 10 means ten or more years.</td>\n",
    "    </tr>\n",
    "    <tr>\n",
    "      <th>8</th>\n",
    "      <td>home_ownership</td>\n",
    "      <td>The home ownership status provided by the borrower during registration or obtained from the credit report. Our values are: RENT, OWN, MORTGAGE, OTHER</td>\n",
    "    </tr>\n",
    "    <tr>\n",
    "      <th>9</th>\n",
    "      <td>annual_inc</td>\n",
    "      <td>The self-reported annual income provided by the borrower during registration.</td>\n",
    "    </tr>\n",
    "    <tr>\n",
    "      <th>10</th>\n",
    "      <td>verification_status</td>\n",
    "      <td>Indicates if income was verified by LC, not verified, or if the income source was verified</td>\n",
    "    </tr>\n",
    "    <tr>\n",
    "      <th>11</th>\n",
    "      <td>issue_d</td>\n",
    "      <td>The month which the loan was funded</td>\n",
    "    </tr>\n",
    "    <tr>\n",
    "      <th>12</th>\n",
    "      <td>loan_status</td>\n",
    "      <td>Current status of the loan</td>\n",
    "    </tr>\n",
    "    <tr>\n",
    "      <th>13</th>\n",
    "      <td>purpose</td>\n",
    "      <td>A category provided by the borrower for the loan request.</td>\n",
    "    </tr>\n",
    "    <tr>\n",
    "      <th>14</th>\n",
    "      <td>title</td>\n",
    "      <td>The loan title provided by the borrower</td>\n",
    "    </tr>\n",
    "    <tr>\n",
    "      <th>15</th>\n",
    "      <td>zip_code</td>\n",
    "      <td>The first 3 numbers of the zip code provided by the borrower in the loan application.</td>\n",
    "    </tr>\n",
    "    <tr>\n",
    "      <th>16</th>\n",
    "      <td>addr_state</td>\n",
    "      <td>The state provided by the borrower in the loan application</td>\n",
    "    </tr>\n",
    "    <tr>\n",
    "      <th>17</th>\n",
    "      <td>dti</td>\n",
    "      <td>A ratio calculated using the borrower’s total monthly debt payments on the total debt obligations, excluding mortgage and the requested LC loan, divided by the borrower’s self-reported monthly income.</td>\n",
    "    </tr>\n",
    "    <tr>\n",
    "      <th>18</th>\n",
    "      <td>earliest_cr_line</td>\n",
    "      <td>The month the borrower's earliest reported credit line was opened</td>\n",
    "    </tr>\n",
    "    <tr>\n",
    "      <th>19</th>\n",
    "      <td>open_acc</td>\n",
    "      <td>The number of open credit lines in the borrower's credit file.</td>\n",
    "    </tr>\n",
    "    <tr>\n",
    "      <th>20</th>\n",
    "      <td>pub_rec</td>\n",
    "      <td>Number of derogatory public records</td>\n",
    "    </tr>\n",
    "    <tr>\n",
    "      <th>21</th>\n",
    "      <td>revol_bal</td>\n",
    "      <td>Total credit revolving balance</td>\n",
    "    </tr>\n",
    "    <tr>\n",
    "      <th>22</th>\n",
    "      <td>revol_util</td>\n",
    "      <td>Revolving line utilization rate, or the amount of credit the borrower is using relative to all available revolving credit.</td>\n",
    "    </tr>\n",
    "    <tr>\n",
    "      <th>23</th>\n",
    "      <td>total_acc</td>\n",
    "      <td>The total number of credit lines currently in the borrower's credit file</td>\n",
    "    </tr>\n",
    "    <tr>\n",
    "      <th>24</th>\n",
    "      <td>initial_list_status</td>\n",
    "      <td>The initial listing status of the loan. Possible values are – W, F</td>\n",
    "    </tr>\n",
    "    <tr>\n",
    "      <th>25</th>\n",
    "      <td>application_type</td>\n",
    "      <td>Indicates whether the loan is an individual application or a joint application with two co-borrowers</td>\n",
    "    </tr>\n",
    "    <tr>\n",
    "      <th>26</th>\n",
    "      <td>mort_acc</td>\n",
    "      <td>Number of mortgage accounts.</td>\n",
    "    </tr>\n",
    "    <tr>\n",
    "      <th>27</th>\n",
    "      <td>pub_rec_bankruptcies</td>\n",
    "      <td>Number of public record bankruptcies</td>\n",
    "    </tr>\n",
    "  </tbody>\n",
    "</table>\n",
    "\n",
    "---\n",
    "----"
   ]
  },
  {
   "cell_type": "markdown",
   "metadata": {},
   "source": [
    "# 1- Imports"
   ]
  },
  {
   "cell_type": "code",
   "execution_count": 1,
   "metadata": {},
   "outputs": [],
   "source": [
    "import numpy as np\n",
    "import pandas as pd\n",
    "import matplotlib.pyplot as plt\n",
    "import seaborn as sns\n",
    "%matplotlib inline\n",
    "from sklearn.preprocessing import LabelEncoder\n",
    "from sklearn.model_selection import train_test_split\n",
    "from sklearn.preprocessing import MinMaxScaler\n",
    "from tensorflow.keras.models import Sequential\n",
    "from tensorflow.keras.layers import Dense,Dropout\n",
    "from tensorflow.keras.callbacks import EarlyStopping\n",
    "from sklearn.metrics import classification_report,confusion_matrix,accuracy_score"
   ]
  },
  {
   "cell_type": "markdown",
   "metadata": {},
   "source": [
    "# 2- Loading the data "
   ]
  },
  {
   "cell_type": "code",
   "execution_count": 143,
   "metadata": {},
   "outputs": [],
   "source": [
    "df = pd.read_csv('lending_club_loan_two.csv')"
   ]
  },
  {
   "cell_type": "code",
   "execution_count": 144,
   "metadata": {},
   "outputs": [
    {
     "data": {
      "text/html": [
       "<div>\n",
       "<style scoped>\n",
       "    .dataframe tbody tr th:only-of-type {\n",
       "        vertical-align: middle;\n",
       "    }\n",
       "\n",
       "    .dataframe tbody tr th {\n",
       "        vertical-align: top;\n",
       "    }\n",
       "\n",
       "    .dataframe thead th {\n",
       "        text-align: right;\n",
       "    }\n",
       "</style>\n",
       "<table border=\"1\" class=\"dataframe\">\n",
       "  <thead>\n",
       "    <tr style=\"text-align: right;\">\n",
       "      <th></th>\n",
       "      <th>loan_amnt</th>\n",
       "      <th>term</th>\n",
       "      <th>int_rate</th>\n",
       "      <th>installment</th>\n",
       "      <th>grade</th>\n",
       "      <th>sub_grade</th>\n",
       "      <th>emp_title</th>\n",
       "      <th>emp_length</th>\n",
       "      <th>home_ownership</th>\n",
       "      <th>annual_inc</th>\n",
       "      <th>...</th>\n",
       "      <th>open_acc</th>\n",
       "      <th>pub_rec</th>\n",
       "      <th>revol_bal</th>\n",
       "      <th>revol_util</th>\n",
       "      <th>total_acc</th>\n",
       "      <th>initial_list_status</th>\n",
       "      <th>application_type</th>\n",
       "      <th>mort_acc</th>\n",
       "      <th>pub_rec_bankruptcies</th>\n",
       "      <th>address</th>\n",
       "    </tr>\n",
       "  </thead>\n",
       "  <tbody>\n",
       "    <tr>\n",
       "      <td>0</td>\n",
       "      <td>10000</td>\n",
       "      <td>36 months</td>\n",
       "      <td>11.44</td>\n",
       "      <td>329.48</td>\n",
       "      <td>B</td>\n",
       "      <td>B4</td>\n",
       "      <td>Marketing</td>\n",
       "      <td>10+ years</td>\n",
       "      <td>RENT</td>\n",
       "      <td>117000.0</td>\n",
       "      <td>...</td>\n",
       "      <td>16</td>\n",
       "      <td>0</td>\n",
       "      <td>36369</td>\n",
       "      <td>41.8</td>\n",
       "      <td>25</td>\n",
       "      <td>w</td>\n",
       "      <td>INDIVIDUAL</td>\n",
       "      <td>0.0</td>\n",
       "      <td>0.0</td>\n",
       "      <td>0174 Michelle Gateway\\nMendozaberg, OK 22690</td>\n",
       "    </tr>\n",
       "    <tr>\n",
       "      <td>1</td>\n",
       "      <td>8000</td>\n",
       "      <td>36 months</td>\n",
       "      <td>11.99</td>\n",
       "      <td>265.68</td>\n",
       "      <td>B</td>\n",
       "      <td>B5</td>\n",
       "      <td>Credit analyst</td>\n",
       "      <td>4 years</td>\n",
       "      <td>MORTGAGE</td>\n",
       "      <td>65000.0</td>\n",
       "      <td>...</td>\n",
       "      <td>17</td>\n",
       "      <td>0</td>\n",
       "      <td>20131</td>\n",
       "      <td>53.3</td>\n",
       "      <td>27</td>\n",
       "      <td>f</td>\n",
       "      <td>INDIVIDUAL</td>\n",
       "      <td>3.0</td>\n",
       "      <td>0.0</td>\n",
       "      <td>1076 Carney Fort Apt. 347\\nLoganmouth, SD 05113</td>\n",
       "    </tr>\n",
       "    <tr>\n",
       "      <td>2</td>\n",
       "      <td>15600</td>\n",
       "      <td>36 months</td>\n",
       "      <td>10.49</td>\n",
       "      <td>506.97</td>\n",
       "      <td>B</td>\n",
       "      <td>B3</td>\n",
       "      <td>Statistician</td>\n",
       "      <td>&lt; 1 year</td>\n",
       "      <td>RENT</td>\n",
       "      <td>43057.0</td>\n",
       "      <td>...</td>\n",
       "      <td>13</td>\n",
       "      <td>0</td>\n",
       "      <td>11987</td>\n",
       "      <td>92.2</td>\n",
       "      <td>26</td>\n",
       "      <td>f</td>\n",
       "      <td>INDIVIDUAL</td>\n",
       "      <td>0.0</td>\n",
       "      <td>0.0</td>\n",
       "      <td>87025 Mark Dale Apt. 269\\nNew Sabrina, WV 05113</td>\n",
       "    </tr>\n",
       "    <tr>\n",
       "      <td>3</td>\n",
       "      <td>7200</td>\n",
       "      <td>36 months</td>\n",
       "      <td>6.49</td>\n",
       "      <td>220.65</td>\n",
       "      <td>A</td>\n",
       "      <td>A2</td>\n",
       "      <td>Client Advocate</td>\n",
       "      <td>6 years</td>\n",
       "      <td>RENT</td>\n",
       "      <td>54000.0</td>\n",
       "      <td>...</td>\n",
       "      <td>6</td>\n",
       "      <td>0</td>\n",
       "      <td>5472</td>\n",
       "      <td>21.5</td>\n",
       "      <td>13</td>\n",
       "      <td>f</td>\n",
       "      <td>INDIVIDUAL</td>\n",
       "      <td>0.0</td>\n",
       "      <td>0.0</td>\n",
       "      <td>823 Reid Ford\\nDelacruzside, MA 00813</td>\n",
       "    </tr>\n",
       "    <tr>\n",
       "      <td>4</td>\n",
       "      <td>24375</td>\n",
       "      <td>60 months</td>\n",
       "      <td>17.27</td>\n",
       "      <td>609.33</td>\n",
       "      <td>C</td>\n",
       "      <td>C5</td>\n",
       "      <td>Destiny Management Inc.</td>\n",
       "      <td>9 years</td>\n",
       "      <td>MORTGAGE</td>\n",
       "      <td>55000.0</td>\n",
       "      <td>...</td>\n",
       "      <td>13</td>\n",
       "      <td>0</td>\n",
       "      <td>24584</td>\n",
       "      <td>69.8</td>\n",
       "      <td>43</td>\n",
       "      <td>f</td>\n",
       "      <td>INDIVIDUAL</td>\n",
       "      <td>1.0</td>\n",
       "      <td>0.0</td>\n",
       "      <td>679 Luna Roads\\nGreggshire, VA 11650</td>\n",
       "    </tr>\n",
       "  </tbody>\n",
       "</table>\n",
       "<p>5 rows × 27 columns</p>\n",
       "</div>"
      ],
      "text/plain": [
       "   loan_amnt        term  int_rate  installment grade sub_grade  \\\n",
       "0      10000   36 months     11.44       329.48     B        B4   \n",
       "1       8000   36 months     11.99       265.68     B        B5   \n",
       "2      15600   36 months     10.49       506.97     B        B3   \n",
       "3       7200   36 months      6.49       220.65     A        A2   \n",
       "4      24375   60 months     17.27       609.33     C        C5   \n",
       "\n",
       "                 emp_title emp_length home_ownership  annual_inc  ...  \\\n",
       "0                Marketing  10+ years           RENT    117000.0  ...   \n",
       "1          Credit analyst     4 years       MORTGAGE     65000.0  ...   \n",
       "2             Statistician   < 1 year           RENT     43057.0  ...   \n",
       "3          Client Advocate    6 years           RENT     54000.0  ...   \n",
       "4  Destiny Management Inc.    9 years       MORTGAGE     55000.0  ...   \n",
       "\n",
       "  open_acc pub_rec revol_bal revol_util total_acc  initial_list_status  \\\n",
       "0       16       0     36369       41.8        25                    w   \n",
       "1       17       0     20131       53.3        27                    f   \n",
       "2       13       0     11987       92.2        26                    f   \n",
       "3        6       0      5472       21.5        13                    f   \n",
       "4       13       0     24584       69.8        43                    f   \n",
       "\n",
       "  application_type  mort_acc  pub_rec_bankruptcies  \\\n",
       "0       INDIVIDUAL       0.0                   0.0   \n",
       "1       INDIVIDUAL       3.0                   0.0   \n",
       "2       INDIVIDUAL       0.0                   0.0   \n",
       "3       INDIVIDUAL       0.0                   0.0   \n",
       "4       INDIVIDUAL       1.0                   0.0   \n",
       "\n",
       "                                           address  \n",
       "0     0174 Michelle Gateway\\nMendozaberg, OK 22690  \n",
       "1  1076 Carney Fort Apt. 347\\nLoganmouth, SD 05113  \n",
       "2  87025 Mark Dale Apt. 269\\nNew Sabrina, WV 05113  \n",
       "3            823 Reid Ford\\nDelacruzside, MA 00813  \n",
       "4             679 Luna Roads\\nGreggshire, VA 11650  \n",
       "\n",
       "[5 rows x 27 columns]"
      ]
     },
     "execution_count": 144,
     "metadata": {},
     "output_type": "execute_result"
    }
   ],
   "source": [
    "df.head()"
   ]
  },
  {
   "cell_type": "code",
   "execution_count": 145,
   "metadata": {},
   "outputs": [
    {
     "data": {
      "text/plain": [
       "(396030, 27)"
      ]
     },
     "execution_count": 145,
     "metadata": {},
     "output_type": "execute_result"
    }
   ],
   "source": [
    "df.shape"
   ]
  },
  {
   "cell_type": "code",
   "execution_count": 5,
   "metadata": {},
   "outputs": [
    {
     "name": "stdout",
     "output_type": "stream",
     "text": [
      "<class 'pandas.core.frame.DataFrame'>\n",
      "RangeIndex: 396030 entries, 0 to 396029\n",
      "Data columns (total 27 columns):\n",
      "loan_amnt               396030 non-null float64\n",
      "term                    396030 non-null object\n",
      "int_rate                396030 non-null float64\n",
      "installment             396030 non-null float64\n",
      "grade                   396030 non-null object\n",
      "sub_grade               396030 non-null object\n",
      "emp_title               373103 non-null object\n",
      "emp_length              377729 non-null object\n",
      "home_ownership          396030 non-null object\n",
      "annual_inc              396030 non-null float64\n",
      "verification_status     396030 non-null object\n",
      "issue_d                 396030 non-null object\n",
      "loan_status             396030 non-null object\n",
      "purpose                 396030 non-null object\n",
      "title                   394275 non-null object\n",
      "dti                     396030 non-null float64\n",
      "earliest_cr_line        396030 non-null object\n",
      "open_acc                396030 non-null float64\n",
      "pub_rec                 396030 non-null float64\n",
      "revol_bal               396030 non-null float64\n",
      "revol_util              395754 non-null float64\n",
      "total_acc               396030 non-null float64\n",
      "initial_list_status     396030 non-null object\n",
      "application_type        396030 non-null object\n",
      "mort_acc                358235 non-null float64\n",
      "pub_rec_bankruptcies    395495 non-null float64\n",
      "address                 396030 non-null object\n",
      "dtypes: float64(12), object(15)\n",
      "memory usage: 81.6+ MB\n"
     ]
    }
   ],
   "source": [
    "df.info()"
   ]
  },
  {
   "cell_type": "code",
   "execution_count": 6,
   "metadata": {},
   "outputs": [
    {
     "data": {
      "text/html": [
       "<div>\n",
       "<style scoped>\n",
       "    .dataframe tbody tr th:only-of-type {\n",
       "        vertical-align: middle;\n",
       "    }\n",
       "\n",
       "    .dataframe tbody tr th {\n",
       "        vertical-align: top;\n",
       "    }\n",
       "\n",
       "    .dataframe thead th {\n",
       "        text-align: right;\n",
       "    }\n",
       "</style>\n",
       "<table border=\"1\" class=\"dataframe\">\n",
       "  <thead>\n",
       "    <tr style=\"text-align: right;\">\n",
       "      <th></th>\n",
       "      <th>loan_amnt</th>\n",
       "      <th>int_rate</th>\n",
       "      <th>installment</th>\n",
       "      <th>annual_inc</th>\n",
       "      <th>dti</th>\n",
       "      <th>open_acc</th>\n",
       "      <th>pub_rec</th>\n",
       "      <th>revol_bal</th>\n",
       "      <th>revol_util</th>\n",
       "      <th>total_acc</th>\n",
       "      <th>mort_acc</th>\n",
       "      <th>pub_rec_bankruptcies</th>\n",
       "    </tr>\n",
       "  </thead>\n",
       "  <tbody>\n",
       "    <tr>\n",
       "      <td>count</td>\n",
       "      <td>396030.000000</td>\n",
       "      <td>396030.000000</td>\n",
       "      <td>396030.000000</td>\n",
       "      <td>3.960300e+05</td>\n",
       "      <td>396030.000000</td>\n",
       "      <td>396030.000000</td>\n",
       "      <td>396030.000000</td>\n",
       "      <td>3.960300e+05</td>\n",
       "      <td>395754.000000</td>\n",
       "      <td>396030.000000</td>\n",
       "      <td>358235.000000</td>\n",
       "      <td>395495.000000</td>\n",
       "    </tr>\n",
       "    <tr>\n",
       "      <td>mean</td>\n",
       "      <td>14113.888089</td>\n",
       "      <td>13.639400</td>\n",
       "      <td>431.849698</td>\n",
       "      <td>7.420318e+04</td>\n",
       "      <td>17.379514</td>\n",
       "      <td>11.311153</td>\n",
       "      <td>0.178191</td>\n",
       "      <td>1.584454e+04</td>\n",
       "      <td>53.791749</td>\n",
       "      <td>25.414744</td>\n",
       "      <td>1.813991</td>\n",
       "      <td>0.121648</td>\n",
       "    </tr>\n",
       "    <tr>\n",
       "      <td>std</td>\n",
       "      <td>8357.441341</td>\n",
       "      <td>4.472157</td>\n",
       "      <td>250.727790</td>\n",
       "      <td>6.163762e+04</td>\n",
       "      <td>18.019092</td>\n",
       "      <td>5.137649</td>\n",
       "      <td>0.530671</td>\n",
       "      <td>2.059184e+04</td>\n",
       "      <td>24.452193</td>\n",
       "      <td>11.886991</td>\n",
       "      <td>2.147930</td>\n",
       "      <td>0.356174</td>\n",
       "    </tr>\n",
       "    <tr>\n",
       "      <td>min</td>\n",
       "      <td>500.000000</td>\n",
       "      <td>5.320000</td>\n",
       "      <td>16.080000</td>\n",
       "      <td>0.000000e+00</td>\n",
       "      <td>0.000000</td>\n",
       "      <td>0.000000</td>\n",
       "      <td>0.000000</td>\n",
       "      <td>0.000000e+00</td>\n",
       "      <td>0.000000</td>\n",
       "      <td>2.000000</td>\n",
       "      <td>0.000000</td>\n",
       "      <td>0.000000</td>\n",
       "    </tr>\n",
       "    <tr>\n",
       "      <td>25%</td>\n",
       "      <td>8000.000000</td>\n",
       "      <td>10.490000</td>\n",
       "      <td>250.330000</td>\n",
       "      <td>4.500000e+04</td>\n",
       "      <td>11.280000</td>\n",
       "      <td>8.000000</td>\n",
       "      <td>0.000000</td>\n",
       "      <td>6.025000e+03</td>\n",
       "      <td>35.800000</td>\n",
       "      <td>17.000000</td>\n",
       "      <td>0.000000</td>\n",
       "      <td>0.000000</td>\n",
       "    </tr>\n",
       "    <tr>\n",
       "      <td>50%</td>\n",
       "      <td>12000.000000</td>\n",
       "      <td>13.330000</td>\n",
       "      <td>375.430000</td>\n",
       "      <td>6.400000e+04</td>\n",
       "      <td>16.910000</td>\n",
       "      <td>10.000000</td>\n",
       "      <td>0.000000</td>\n",
       "      <td>1.118100e+04</td>\n",
       "      <td>54.800000</td>\n",
       "      <td>24.000000</td>\n",
       "      <td>1.000000</td>\n",
       "      <td>0.000000</td>\n",
       "    </tr>\n",
       "    <tr>\n",
       "      <td>75%</td>\n",
       "      <td>20000.000000</td>\n",
       "      <td>16.490000</td>\n",
       "      <td>567.300000</td>\n",
       "      <td>9.000000e+04</td>\n",
       "      <td>22.980000</td>\n",
       "      <td>14.000000</td>\n",
       "      <td>0.000000</td>\n",
       "      <td>1.962000e+04</td>\n",
       "      <td>72.900000</td>\n",
       "      <td>32.000000</td>\n",
       "      <td>3.000000</td>\n",
       "      <td>0.000000</td>\n",
       "    </tr>\n",
       "    <tr>\n",
       "      <td>max</td>\n",
       "      <td>40000.000000</td>\n",
       "      <td>30.990000</td>\n",
       "      <td>1533.810000</td>\n",
       "      <td>8.706582e+06</td>\n",
       "      <td>9999.000000</td>\n",
       "      <td>90.000000</td>\n",
       "      <td>86.000000</td>\n",
       "      <td>1.743266e+06</td>\n",
       "      <td>892.300000</td>\n",
       "      <td>151.000000</td>\n",
       "      <td>34.000000</td>\n",
       "      <td>8.000000</td>\n",
       "    </tr>\n",
       "  </tbody>\n",
       "</table>\n",
       "</div>"
      ],
      "text/plain": [
       "           loan_amnt       int_rate    installment    annual_inc  \\\n",
       "count  396030.000000  396030.000000  396030.000000  3.960300e+05   \n",
       "mean    14113.888089      13.639400     431.849698  7.420318e+04   \n",
       "std      8357.441341       4.472157     250.727790  6.163762e+04   \n",
       "min       500.000000       5.320000      16.080000  0.000000e+00   \n",
       "25%      8000.000000      10.490000     250.330000  4.500000e+04   \n",
       "50%     12000.000000      13.330000     375.430000  6.400000e+04   \n",
       "75%     20000.000000      16.490000     567.300000  9.000000e+04   \n",
       "max     40000.000000      30.990000    1533.810000  8.706582e+06   \n",
       "\n",
       "                 dti       open_acc        pub_rec     revol_bal  \\\n",
       "count  396030.000000  396030.000000  396030.000000  3.960300e+05   \n",
       "mean       17.379514      11.311153       0.178191  1.584454e+04   \n",
       "std        18.019092       5.137649       0.530671  2.059184e+04   \n",
       "min         0.000000       0.000000       0.000000  0.000000e+00   \n",
       "25%        11.280000       8.000000       0.000000  6.025000e+03   \n",
       "50%        16.910000      10.000000       0.000000  1.118100e+04   \n",
       "75%        22.980000      14.000000       0.000000  1.962000e+04   \n",
       "max      9999.000000      90.000000      86.000000  1.743266e+06   \n",
       "\n",
       "          revol_util      total_acc       mort_acc  pub_rec_bankruptcies  \n",
       "count  395754.000000  396030.000000  358235.000000         395495.000000  \n",
       "mean       53.791749      25.414744       1.813991              0.121648  \n",
       "std        24.452193      11.886991       2.147930              0.356174  \n",
       "min         0.000000       2.000000       0.000000              0.000000  \n",
       "25%        35.800000      17.000000       0.000000              0.000000  \n",
       "50%        54.800000      24.000000       1.000000              0.000000  \n",
       "75%        72.900000      32.000000       3.000000              0.000000  \n",
       "max       892.300000     151.000000      34.000000              8.000000  "
      ]
     },
     "execution_count": 6,
     "metadata": {},
     "output_type": "execute_result"
    }
   ],
   "source": [
    "df.describe()"
   ]
  },
  {
   "cell_type": "markdown",
   "metadata": {},
   "source": [
    "# 3- Data Cleaning"
   ]
  },
  {
   "cell_type": "markdown",
   "metadata": {},
   "source": [
    "**We will create a Series that displays the total count of missing values per column.**"
   ]
  },
  {
   "cell_type": "code",
   "execution_count": 7,
   "metadata": {},
   "outputs": [
    {
     "data": {
      "text/plain": [
       "loan_amnt                   0\n",
       "term                        0\n",
       "int_rate                    0\n",
       "installment                 0\n",
       "grade                       0\n",
       "sub_grade                   0\n",
       "emp_title               22927\n",
       "emp_length              18301\n",
       "home_ownership              0\n",
       "annual_inc                  0\n",
       "verification_status         0\n",
       "issue_d                     0\n",
       "loan_status                 0\n",
       "purpose                     0\n",
       "title                    1755\n",
       "dti                         0\n",
       "earliest_cr_line            0\n",
       "open_acc                    0\n",
       "pub_rec                     0\n",
       "revol_bal                   0\n",
       "revol_util                276\n",
       "total_acc                   0\n",
       "initial_list_status         0\n",
       "application_type            0\n",
       "mort_acc                37795\n",
       "pub_rec_bankruptcies      535\n",
       "address                     0\n",
       "dtype: int64"
      ]
     },
     "execution_count": 7,
     "metadata": {},
     "output_type": "execute_result"
    }
   ],
   "source": [
    "df.isnull().sum()"
   ]
  },
  {
   "cell_type": "markdown",
   "metadata": {},
   "source": [
    "**We will convert this Series to be in term of percentage of the total DataFrame.**"
   ]
  },
  {
   "cell_type": "code",
   "execution_count": 8,
   "metadata": {},
   "outputs": [
    {
     "data": {
      "text/plain": [
       "loan_amnt               0.000000\n",
       "term                    0.000000\n",
       "int_rate                0.000000\n",
       "installment             0.000000\n",
       "grade                   0.000000\n",
       "sub_grade               0.000000\n",
       "emp_title               5.789208\n",
       "emp_length              4.621115\n",
       "home_ownership          0.000000\n",
       "annual_inc              0.000000\n",
       "verification_status     0.000000\n",
       "issue_d                 0.000000\n",
       "loan_status             0.000000\n",
       "purpose                 0.000000\n",
       "title                   0.443148\n",
       "dti                     0.000000\n",
       "earliest_cr_line        0.000000\n",
       "open_acc                0.000000\n",
       "pub_rec                 0.000000\n",
       "revol_bal               0.000000\n",
       "revol_util              0.069692\n",
       "total_acc               0.000000\n",
       "initial_list_status     0.000000\n",
       "application_type        0.000000\n",
       "mort_acc                9.543469\n",
       "pub_rec_bankruptcies    0.135091\n",
       "address                 0.000000\n",
       "dtype: float64"
      ]
     },
     "execution_count": 8,
     "metadata": {},
     "output_type": "execute_result"
    }
   ],
   "source": [
    "(df.isnull().sum())/(df.shape[0])*100"
   ]
  },
  {
   "cell_type": "markdown",
   "metadata": {},
   "source": [
    "### **1- \"emp_title\"**\n",
    "The job title supplied by the Borrower when applying for the loan."
   ]
  },
  {
   "cell_type": "code",
   "execution_count": 9,
   "metadata": {},
   "outputs": [
    {
     "data": {
      "text/plain": [
       "173105"
      ]
     },
     "execution_count": 9,
     "metadata": {},
     "output_type": "execute_result"
    }
   ],
   "source": [
    "df['emp_title'].nunique()"
   ]
  },
  {
   "cell_type": "code",
   "execution_count": 10,
   "metadata": {},
   "outputs": [],
   "source": [
    "df.drop(['emp_title'],axis=1,inplace=True)"
   ]
  },
  {
   "cell_type": "markdown",
   "metadata": {},
   "source": [
    "**Realistically there are too many unique job titles to try to convert this to a dummy variable feature. So we remove that emp_title column.**"
   ]
  },
  {
   "cell_type": "markdown",
   "metadata": {},
   "source": [
    "### **2- \"emp_length\"** \n",
    "Employment length in years. Possible values are between 0 and 10 where 0 means less than one year and 10 means ten or more years."
   ]
  },
  {
   "cell_type": "code",
   "execution_count": 11,
   "metadata": {},
   "outputs": [
    {
     "data": {
      "text/plain": [
       "10+ years    126041\n",
       "2 years       35827\n",
       "< 1 year      31725\n",
       "3 years       31665\n",
       "5 years       26495\n",
       "1 year        25882\n",
       "4 years       23952\n",
       "6 years       20841\n",
       "7 years       20819\n",
       "8 years       19168\n",
       "9 years       15314\n",
       "Name: emp_length, dtype: int64"
      ]
     },
     "execution_count": 11,
     "metadata": {},
     "output_type": "execute_result"
    }
   ],
   "source": [
    "df['emp_length'].value_counts()"
   ]
  },
  {
   "cell_type": "markdown",
   "metadata": {},
   "source": [
    "**We create a count plot of the emp_length feature column. We sort the order of the values.**"
   ]
  },
  {
   "cell_type": "code",
   "execution_count": 12,
   "metadata": {},
   "outputs": [
    {
     "data": {
      "text/plain": [
       "array(['1 year', '10+ years', '2 years', '3 years', '4 years', '5 years',\n",
       "       '6 years', '7 years', '8 years', '9 years', '< 1 year', nan],\n",
       "      dtype=object)"
      ]
     },
     "execution_count": 12,
     "metadata": {},
     "output_type": "execute_result"
    }
   ],
   "source": [
    "df['emp_length'].sort_values().unique()"
   ]
  },
  {
   "cell_type": "code",
   "execution_count": 13,
   "metadata": {},
   "outputs": [],
   "source": [
    "new_order=['< 1 year','1 year', '2 years', '3 years', '4 years', '5 years',\n",
    "       '6 years', '7 years', '8 years', '9 years','10+ years']"
   ]
  },
  {
   "cell_type": "code",
   "execution_count": 14,
   "metadata": {},
   "outputs": [
    {
     "data": {
      "text/plain": [
       "Text(0.5, 1.0, 'Countplot of Employment Length')"
      ]
     },
     "execution_count": 14,
     "metadata": {},
     "output_type": "execute_result"
    },
    {
     "data": {
      "image/png": "[encoded data removed]",
      "text/plain": [
       "<Figure size 720x360 with 1 Axes>"
      ]
     },
     "metadata": {
      "needs_background": "light"
     },
     "output_type": "display_data"
    }
   ],
   "source": [
    "plt.figure(figsize=(10,5))\n",
    "sns.countplot(x='emp_length', data=df, order=new_order)\n",
    "plt.xlabel('Employment length')\n",
    "plt.ylabel('Count')\n",
    "plt.title('Countplot of Employment Length')"
   ]
  },
  {
   "cell_type": "markdown",
   "metadata": {},
   "source": [
    "**We plot out the countplot with a hue separating Fully Paid vs Charged Off**"
   ]
  },
  {
   "cell_type": "code",
   "execution_count": 15,
   "metadata": {},
   "outputs": [
    {
     "data": {
      "text/plain": [
       "Text(0.5, 1.0, 'Countplot of Employment Length vs. Loan Status')"
      ]
     },
     "execution_count": 15,
     "metadata": {},
     "output_type": "execute_result"
    },
    {
     "data": {
      "image/png": "[encoded data removed]",
      "text/plain": [
       "<Figure size 720x360 with 1 Axes>"
      ]
     },
     "metadata": {
      "needs_background": "light"
     },
     "output_type": "display_data"
    }
   ],
   "source": [
    "plt.figure(figsize=(10,5))\n",
    "sns.countplot(x='emp_length', data=df, hue='loan_status')\n",
    "plt.xlabel('Employment length')\n",
    "plt.ylabel('Count')\n",
    "plt.title('Countplot of Employment Length vs. Loan Status')"
   ]
  },
  {
   "cell_type": "markdown",
   "metadata": {},
   "source": [
    "**This still doesn't really inform us if there is a strong relationship between employment length and being charged off, what we want is the percentage of charge offs per category. Essentially informing us what percent of people per employment category didn't pay back their loan.**"
   ]
  },
  {
   "cell_type": "code",
   "execution_count": 16,
   "metadata": {},
   "outputs": [
    {
     "name": "stdout",
     "output_type": "stream",
     "text": [
      "[18.418609817440355, 19.238476953907817, 20.68715524034673, 18.919437646945923, 20.04701580253363, 19.32620649231027, 19.52313279646297, 19.976001669449083, 19.47740045151064, 19.218720513304397, 19.913453365273163]\n"
     ]
    }
   ],
   "source": [
    "new=[]\n",
    "for x in df['emp_length'].dropna().unique():\n",
    "    df1=df[df['emp_length']==x]\n",
    "    new.append(100*(df1[df1['loan_status']=='Charged Off']['loan_status'].count())/(df1['loan_status'].count()))\n",
    "print(new)"
   ]
  },
  {
   "cell_type": "code",
   "execution_count": 17,
   "metadata": {},
   "outputs": [
    {
     "data": {
      "text/plain": [
       "Text(0.5, 1.0, 'Percentage of Charged off Loans vs. Employment Length')"
      ]
     },
     "execution_count": 17,
     "metadata": {},
     "output_type": "execute_result"
    },
    {
     "data": {
      "image/png": "[encoded data removed]",
      "text/plain": [
       "<Figure size 576x360 with 1 Axes>"
      ]
     },
     "metadata": {
      "needs_background": "light"
     },
     "output_type": "display_data"
    }
   ],
   "source": [
    "plt.figure(figsize=(8,5))\n",
    "plt.bar(x=df['emp_length'].dropna().unique(),height=[18.418609817440355, 19.238476953907817, 20.68715524034673, 18.919437646945923, 20.04701580253363, 19.32620649231027, 19.52313279646297, 19.976001669449083, 19.47740045151064, 19.218720513304397, 19.913453365273163])\n",
    "plt.xticks(rotation=90)\n",
    "plt.xlabel('Employment length')\n",
    "plt.ylabel('Percentage of charged off loans')\n",
    "plt.title('Percentage of Charged off Loans vs. Employment Length')"
   ]
  },
  {
   "cell_type": "markdown",
   "metadata": {},
   "source": [
    "**We can see the charge off rates are extremely similar across all employment lengths. So we drop the emp_length column.**"
   ]
  },
  {
   "cell_type": "code",
   "execution_count": 18,
   "metadata": {},
   "outputs": [],
   "source": [
    "df.drop(['emp_length'],axis=1,inplace=True)"
   ]
  },
  {
   "cell_type": "markdown",
   "metadata": {},
   "source": [
    "### **3- \"title\"**\n",
    "The loan title provided by the borrower."
   ]
  },
  {
   "cell_type": "code",
   "execution_count": 19,
   "metadata": {
    "scrolled": true
   },
   "outputs": [
    {
     "data": {
      "text/plain": [
       "48817"
      ]
     },
     "execution_count": 19,
     "metadata": {},
     "output_type": "execute_result"
    }
   ],
   "source": [
    "df['title'].nunique()"
   ]
  },
  {
   "cell_type": "markdown",
   "metadata": {},
   "source": [
    "**There are too many loan titles to try to convert this to a dummy variable feature. Also, the title column is simply a string subcategory/description of the purpose column. So we remove that emp_title column.**"
   ]
  },
  {
   "cell_type": "code",
   "execution_count": null,
   "metadata": {},
   "outputs": [],
   "source": [
    "df.drop(['title'],axis=1,inplace=True)"
   ]
  },
  {
   "cell_type": "markdown",
   "metadata": {},
   "source": [
    "### **4- mort_acc** \n",
    "Number of mortgage accounts.          "
   ]
  },
  {
   "cell_type": "markdown",
   "metadata": {},
   "source": [
    "**We will fill the missing values of the mort_acc with  the mean of the other columns.**"
   ]
  },
  {
   "cell_type": "code",
   "execution_count": 21,
   "metadata": {},
   "outputs": [],
   "source": [
    "df['mort_acc'].fillna(df['mort_acc'].mean(),inplace=True)"
   ]
  },
  {
   "cell_type": "markdown",
   "metadata": {},
   "source": [
    "### **5- revol_util** \n",
    "Revolving line utilization rate, or the amount of credit the borrower is using relative to all available revolving credit."
   ]
  },
  {
   "cell_type": "markdown",
   "metadata": {},
   "source": [
    "### **6- pub_rec_bankruptcies**\n",
    "Number of public record bankruptcies."
   ]
  },
  {
   "cell_type": "markdown",
   "metadata": {},
   "source": [
    "**revol_util and the pub_rec_bankruptcies have missing data points, but they account for less than 0.5% of the total data. So we remove the rows that are missing those values in those columns with dropna().**"
   ]
  },
  {
   "cell_type": "code",
   "execution_count": 22,
   "metadata": {},
   "outputs": [],
   "source": [
    "df.dropna(inplace=True)"
   ]
  },
  {
   "cell_type": "code",
   "execution_count": 23,
   "metadata": {},
   "outputs": [
    {
     "data": {
      "text/plain": [
       "loan_amnt               0\n",
       "term                    0\n",
       "int_rate                0\n",
       "installment             0\n",
       "grade                   0\n",
       "sub_grade               0\n",
       "home_ownership          0\n",
       "annual_inc              0\n",
       "verification_status     0\n",
       "issue_d                 0\n",
       "loan_status             0\n",
       "purpose                 0\n",
       "dti                     0\n",
       "earliest_cr_line        0\n",
       "open_acc                0\n",
       "pub_rec                 0\n",
       "revol_bal               0\n",
       "revol_util              0\n",
       "total_acc               0\n",
       "initial_list_status     0\n",
       "application_type        0\n",
       "mort_acc                0\n",
       "pub_rec_bankruptcies    0\n",
       "address                 0\n",
       "dtype: int64"
      ]
     },
     "execution_count": 23,
     "metadata": {},
     "output_type": "execute_result"
    }
   ],
   "source": [
    "df.isnull().sum()"
   ]
  },
  {
   "cell_type": "markdown",
   "metadata": {},
   "source": [
    "# 4- Feature Engineering"
   ]
  },
  {
   "cell_type": "markdown",
   "metadata": {},
   "source": [
    "## 4-1- Time Formatting"
   ]
  },
  {
   "cell_type": "markdown",
   "metadata": {},
   "source": [
    "### 1- ''earliest_cr_line''\n",
    "earliest_cr_line\tThe month the borrower's earliest reported credit line was opened\n",
    "\n",
    "**We extract the year from this feature and set this new data to a feature column called 'earliest_cr_year'.Then drop the earliest_cr_line feature.**"
   ]
  },
  {
   "cell_type": "code",
   "execution_count": 24,
   "metadata": {},
   "outputs": [
    {
     "data": {
      "text/plain": [
       "0         Jun-1990\n",
       "1         Jul-2004\n",
       "2         Aug-2007\n",
       "3         Sep-2006\n",
       "4         Mar-1999\n",
       "            ...   \n",
       "396025    Nov-2004\n",
       "396026    Feb-2006\n",
       "396027    Mar-1997\n",
       "396028    Nov-1990\n",
       "396029    Sep-1998\n",
       "Name: earliest_cr_line, Length: 395219, dtype: object"
      ]
     },
     "execution_count": 24,
     "metadata": {},
     "output_type": "execute_result"
    }
   ],
   "source": [
    "df['earliest_cr_line']"
   ]
  },
  {
   "cell_type": "code",
   "execution_count": 25,
   "metadata": {},
   "outputs": [],
   "source": [
    "df['earliest_cr_line']=pd.to_datetime(df['earliest_cr_line'])"
   ]
  },
  {
   "cell_type": "code",
   "execution_count": 26,
   "metadata": {},
   "outputs": [],
   "source": [
    "df['earliest_cr_year']=df['earliest_cr_line'].apply(lambda x:x.year)"
   ]
  },
  {
   "cell_type": "code",
   "execution_count": 27,
   "metadata": {},
   "outputs": [],
   "source": [
    "df.drop(['earliest_cr_line'],axis=1,inplace=True)"
   ]
  },
  {
   "cell_type": "markdown",
   "metadata": {},
   "source": [
    "### 2- ''issue_d\" \n",
    "The month which the loan was funded\n",
    "\n",
    "**This would be data leakage, we wouldn't know beforehand whether or not a loan would be issued when using our model, so in theory we wouldn't have an issue_date, and drop this feature.**"
   ]
  },
  {
   "cell_type": "code",
   "execution_count": 28,
   "metadata": {},
   "outputs": [],
   "source": [
    "df.drop(['issue_d'],axis=1,inplace=True)"
   ]
  },
  {
   "cell_type": "markdown",
   "metadata": {},
   "source": [
    "## 4-2- Encoding Categorical Variables "
   ]
  },
  {
   "cell_type": "markdown",
   "metadata": {},
   "source": [
    "### 1- \"term\""
   ]
  },
  {
   "cell_type": "markdown",
   "metadata": {},
   "source": [
    "The number of payments on the loan. Values are in months and can be either 36 or 60."
   ]
  },
  {
   "cell_type": "markdown",
   "metadata": {},
   "source": [
    "**We will convert the term feature into either a 36 or 60 integer numeric data type using .apply() or .map().**"
   ]
  },
  {
   "cell_type": "code",
   "execution_count": 29,
   "metadata": {},
   "outputs": [
    {
     "data": {
      "text/plain": [
       "array([' 36 months', ' 60 months'], dtype=object)"
      ]
     },
     "execution_count": 29,
     "metadata": {},
     "output_type": "execute_result"
    }
   ],
   "source": [
    "df['term'].unique()"
   ]
  },
  {
   "cell_type": "code",
   "execution_count": 30,
   "metadata": {},
   "outputs": [],
   "source": [
    "df['term']=df['term'].apply(lambda x: 36 if x==' 36 months' else 60)"
   ]
  },
  {
   "cell_type": "markdown",
   "metadata": {},
   "source": [
    "### 2- \"grade\""
   ]
  },
  {
   "cell_type": "markdown",
   "metadata": {},
   "source": [
    "LC assigned loan grade"
   ]
  },
  {
   "cell_type": "code",
   "execution_count": 31,
   "metadata": {},
   "outputs": [
    {
     "data": {
      "text/plain": [
       "array(['B', 'A', 'C', 'E', 'D', 'F', 'G'], dtype=object)"
      ]
     },
     "execution_count": 31,
     "metadata": {},
     "output_type": "execute_result"
    }
   ],
   "source": [
    "df['grade'].unique()"
   ]
  },
  {
   "cell_type": "markdown",
   "metadata": {},
   "source": [
    "**We already know grade is part of sub_grade, so just drop the grade feature.**"
   ]
  },
  {
   "cell_type": "code",
   "execution_count": 32,
   "metadata": {},
   "outputs": [],
   "source": [
    "df.drop(['grade'],axis=1,inplace=True)"
   ]
  },
  {
   "cell_type": "markdown",
   "metadata": {},
   "source": [
    "### 3- \"sub_grade\""
   ]
  },
  {
   "cell_type": "markdown",
   "metadata": {},
   "source": [
    "LC assigned loan subgrade"
   ]
  },
  {
   "cell_type": "markdown",
   "metadata": {},
   "source": [
    "**We convert the subgrade into numeric values.**"
   ]
  },
  {
   "cell_type": "code",
   "execution_count": 33,
   "metadata": {},
   "outputs": [
    {
     "data": {
      "text/plain": [
       "35"
      ]
     },
     "execution_count": 33,
     "metadata": {},
     "output_type": "execute_result"
    }
   ],
   "source": [
    "df['sub_grade'].nunique()"
   ]
  },
  {
   "cell_type": "code",
   "execution_count": 34,
   "metadata": {},
   "outputs": [],
   "source": [
    "le1=LabelEncoder()"
   ]
  },
  {
   "cell_type": "code",
   "execution_count": 35,
   "metadata": {},
   "outputs": [
    {
     "data": {
      "text/plain": [
       "LabelEncoder()"
      ]
     },
     "execution_count": 35,
     "metadata": {},
     "output_type": "execute_result"
    }
   ],
   "source": [
    "le1.fit(df['sub_grade'])"
   ]
  },
  {
   "cell_type": "code",
   "execution_count": 36,
   "metadata": {},
   "outputs": [],
   "source": [
    "df['encoded_sub_grade']=le1.transform(df['sub_grade'])"
   ]
  },
  {
   "cell_type": "code",
   "execution_count": 37,
   "metadata": {},
   "outputs": [
    {
     "data": {
      "text/plain": [
       "array([ 8,  9,  7,  1, 14, 12,  0,  6, 10,  4, 23,  3,  2, 15, 11,  5, 17,\n",
       "       19, 16, 20, 21, 24, 28, 22, 18, 30, 29, 31, 13, 25, 27, 34, 33, 26,\n",
       "       32], dtype=int64)"
      ]
     },
     "execution_count": 37,
     "metadata": {},
     "output_type": "execute_result"
    }
   ],
   "source": [
    "df['encoded_sub_grade'].unique()"
   ]
  },
  {
   "cell_type": "markdown",
   "metadata": {},
   "source": [
    "**We will remove the \"sub_grade\" column after visualization and only keep \"encoded_sub_grade\" column.**"
   ]
  },
  {
   "cell_type": "markdown",
   "metadata": {},
   "source": [
    "### 4- \"home_ownership\""
   ]
  },
  {
   "cell_type": "markdown",
   "metadata": {},
   "source": [
    "The home ownership status provided by the borrower during registration or obtained from the credit report. Our values are: RENT, OWN, MORTGAGE, OTHER"
   ]
  },
  {
   "cell_type": "code",
   "execution_count": 38,
   "metadata": {},
   "outputs": [
    {
     "data": {
      "text/plain": [
       "array(['RENT', 'MORTGAGE', 'OWN', 'OTHER', 'ANY', 'NONE'], dtype=object)"
      ]
     },
     "execution_count": 38,
     "metadata": {},
     "output_type": "execute_result"
    }
   ],
   "source": [
    "df['home_ownership'].unique()"
   ]
  },
  {
   "cell_type": "markdown",
   "metadata": {},
   "source": [
    "**First, we replace NONE and ANY with OTHER, so that we end up with just 4 categories, MORTGAGE, RENT, OWN, OTHER.**\n",
    "\n",
    "**Second, we convert the home_ownership into numeric values.**"
   ]
  },
  {
   "cell_type": "code",
   "execution_count": 39,
   "metadata": {},
   "outputs": [],
   "source": [
    "df['home_ownership']=df['home_ownership'].apply(lambda x: 'OTHER' if x=='ANY' else 'OTHER' if x=='NONE' else x)"
   ]
  },
  {
   "cell_type": "code",
   "execution_count": 40,
   "metadata": {},
   "outputs": [
    {
     "data": {
      "text/plain": [
       "array(['RENT', 'MORTGAGE', 'OWN', 'OTHER'], dtype=object)"
      ]
     },
     "execution_count": 40,
     "metadata": {},
     "output_type": "execute_result"
    }
   ],
   "source": [
    "df['home_ownership'].unique()"
   ]
  },
  {
   "cell_type": "code",
   "execution_count": 41,
   "metadata": {},
   "outputs": [],
   "source": [
    "le2=LabelEncoder()"
   ]
  },
  {
   "cell_type": "code",
   "execution_count": 42,
   "metadata": {},
   "outputs": [
    {
     "data": {
      "text/plain": [
       "LabelEncoder()"
      ]
     },
     "execution_count": 42,
     "metadata": {},
     "output_type": "execute_result"
    }
   ],
   "source": [
    "le2.fit(df['home_ownership'])"
   ]
  },
  {
   "cell_type": "code",
   "execution_count": 43,
   "metadata": {},
   "outputs": [],
   "source": [
    "df['home_ownership']=le2.transform(df['home_ownership'])"
   ]
  },
  {
   "cell_type": "code",
   "execution_count": 44,
   "metadata": {},
   "outputs": [
    {
     "data": {
      "text/plain": [
       "array([3, 0, 2, 1], dtype=int64)"
      ]
     },
     "execution_count": 44,
     "metadata": {},
     "output_type": "execute_result"
    }
   ],
   "source": [
    "df['home_ownership'].unique()"
   ]
  },
  {
   "cell_type": "markdown",
   "metadata": {},
   "source": [
    "### 5- \"verification_status\""
   ]
  },
  {
   "cell_type": "markdown",
   "metadata": {},
   "source": [
    "Indicates if income was verified by LC, not verified, or if the income source was verified"
   ]
  },
  {
   "cell_type": "code",
   "execution_count": 45,
   "metadata": {},
   "outputs": [
    {
     "data": {
      "text/plain": [
       "array(['Not Verified', 'Source Verified', 'Verified'], dtype=object)"
      ]
     },
     "execution_count": 45,
     "metadata": {},
     "output_type": "execute_result"
    }
   ],
   "source": [
    "df['verification_status'].unique()"
   ]
  },
  {
   "cell_type": "code",
   "execution_count": 46,
   "metadata": {},
   "outputs": [],
   "source": [
    "le3=LabelEncoder()"
   ]
  },
  {
   "cell_type": "code",
   "execution_count": 47,
   "metadata": {},
   "outputs": [
    {
     "data": {
      "text/plain": [
       "LabelEncoder()"
      ]
     },
     "execution_count": 47,
     "metadata": {},
     "output_type": "execute_result"
    }
   ],
   "source": [
    "le3.fit(df['verification_status'])"
   ]
  },
  {
   "cell_type": "code",
   "execution_count": 48,
   "metadata": {},
   "outputs": [],
   "source": [
    "df['verification_status']=le3.transform(df['verification_status'])"
   ]
  },
  {
   "cell_type": "code",
   "execution_count": 49,
   "metadata": {},
   "outputs": [
    {
     "data": {
      "text/plain": [
       "array([0, 1, 2], dtype=int64)"
      ]
     },
     "execution_count": 49,
     "metadata": {},
     "output_type": "execute_result"
    }
   ],
   "source": [
    "df['verification_status'].unique()"
   ]
  },
  {
   "cell_type": "markdown",
   "metadata": {},
   "source": [
    "### 6- \"purpose\""
   ]
  },
  {
   "cell_type": "markdown",
   "metadata": {},
   "source": [
    "A category provided by the borrower for the loan request."
   ]
  },
  {
   "cell_type": "code",
   "execution_count": 50,
   "metadata": {},
   "outputs": [
    {
     "data": {
      "text/plain": [
       "array(['vacation', 'debt_consolidation', 'credit_card',\n",
       "       'home_improvement', 'small_business', 'major_purchase', 'other',\n",
       "       'medical', 'wedding', 'car', 'moving', 'house', 'educational',\n",
       "       'renewable_energy'], dtype=object)"
      ]
     },
     "execution_count": 50,
     "metadata": {},
     "output_type": "execute_result"
    }
   ],
   "source": [
    "df['purpose'].unique()"
   ]
  },
  {
   "cell_type": "code",
   "execution_count": 51,
   "metadata": {},
   "outputs": [],
   "source": [
    "le4=LabelEncoder()"
   ]
  },
  {
   "cell_type": "code",
   "execution_count": 52,
   "metadata": {},
   "outputs": [
    {
     "data": {
      "text/plain": [
       "LabelEncoder()"
      ]
     },
     "execution_count": 52,
     "metadata": {},
     "output_type": "execute_result"
    }
   ],
   "source": [
    "le4.fit(df['purpose'])"
   ]
  },
  {
   "cell_type": "code",
   "execution_count": 53,
   "metadata": {},
   "outputs": [],
   "source": [
    "df['purpose']=le4.transform(df['purpose'])"
   ]
  },
  {
   "cell_type": "code",
   "execution_count": 54,
   "metadata": {},
   "outputs": [
    {
     "data": {
      "text/plain": [
       "array([12,  2,  1,  4, 11,  6,  9,  7, 13,  0,  8,  5,  3, 10],\n",
       "      dtype=int64)"
      ]
     },
     "execution_count": 54,
     "metadata": {},
     "output_type": "execute_result"
    }
   ],
   "source": [
    "df['purpose'].unique()"
   ]
  },
  {
   "cell_type": "markdown",
   "metadata": {},
   "source": [
    "### 7- \"application_type\""
   ]
  },
  {
   "cell_type": "markdown",
   "metadata": {},
   "source": [
    "Indicates whether the loan is an individual application or a joint application with two co-borrowers"
   ]
  },
  {
   "cell_type": "code",
   "execution_count": 55,
   "metadata": {},
   "outputs": [
    {
     "data": {
      "text/plain": [
       "array(['INDIVIDUAL', 'JOINT', 'DIRECT_PAY'], dtype=object)"
      ]
     },
     "execution_count": 55,
     "metadata": {},
     "output_type": "execute_result"
    }
   ],
   "source": [
    "df['application_type'].unique()"
   ]
  },
  {
   "cell_type": "code",
   "execution_count": 56,
   "metadata": {},
   "outputs": [],
   "source": [
    "le5=LabelEncoder()"
   ]
  },
  {
   "cell_type": "code",
   "execution_count": 57,
   "metadata": {},
   "outputs": [
    {
     "data": {
      "text/plain": [
       "LabelEncoder()"
      ]
     },
     "execution_count": 57,
     "metadata": {},
     "output_type": "execute_result"
    }
   ],
   "source": [
    "le5.fit(df['application_type'])"
   ]
  },
  {
   "cell_type": "code",
   "execution_count": 58,
   "metadata": {},
   "outputs": [],
   "source": [
    "df['application_type']=le5.transform(df['application_type'])"
   ]
  },
  {
   "cell_type": "code",
   "execution_count": 59,
   "metadata": {},
   "outputs": [
    {
     "data": {
      "text/plain": [
       "array([1, 2, 0], dtype=int64)"
      ]
     },
     "execution_count": 59,
     "metadata": {},
     "output_type": "execute_result"
    }
   ],
   "source": [
    "df['application_type'].unique()"
   ]
  },
  {
   "cell_type": "markdown",
   "metadata": {},
   "source": [
    "### 8- \"initial_list_status\""
   ]
  },
  {
   "cell_type": "markdown",
   "metadata": {},
   "source": [
    "The initial listing status of the loan. Possible values are – W, F"
   ]
  },
  {
   "cell_type": "code",
   "execution_count": 60,
   "metadata": {},
   "outputs": [
    {
     "data": {
      "text/plain": [
       "array(['w', 'f'], dtype=object)"
      ]
     },
     "execution_count": 60,
     "metadata": {},
     "output_type": "execute_result"
    }
   ],
   "source": [
    "df['initial_list_status'].unique()"
   ]
  },
  {
   "cell_type": "code",
   "execution_count": 61,
   "metadata": {},
   "outputs": [],
   "source": [
    "le6=LabelEncoder()"
   ]
  },
  {
   "cell_type": "code",
   "execution_count": 62,
   "metadata": {},
   "outputs": [
    {
     "data": {
      "text/plain": [
       "LabelEncoder()"
      ]
     },
     "execution_count": 62,
     "metadata": {},
     "output_type": "execute_result"
    }
   ],
   "source": [
    "le6.fit(df['initial_list_status'])"
   ]
  },
  {
   "cell_type": "code",
   "execution_count": 63,
   "metadata": {},
   "outputs": [],
   "source": [
    "df['initial_list_status']=le6.transform(df['initial_list_status'])"
   ]
  },
  {
   "cell_type": "code",
   "execution_count": 64,
   "metadata": {},
   "outputs": [
    {
     "data": {
      "text/plain": [
       "array([1, 0], dtype=int64)"
      ]
     },
     "execution_count": 64,
     "metadata": {},
     "output_type": "execute_result"
    }
   ],
   "source": [
    "df['initial_list_status'].unique()"
   ]
  },
  {
   "cell_type": "markdown",
   "metadata": {},
   "source": [
    "### 9- \"address\""
   ]
  },
  {
   "cell_type": "markdown",
   "metadata": {},
   "source": [
    "**First, we reate a column called 'zip_code' that extracts the zip code from the address column.**\n",
    "\n",
    "**Second, we convert the zip_code into numeric values.**\n",
    "\n",
    "**Third, we remove the address column.**"
   ]
  },
  {
   "cell_type": "code",
   "execution_count": 65,
   "metadata": {},
   "outputs": [],
   "source": [
    "df['zip_code']=df['address'].apply(lambda x: x.split()[-1])"
   ]
  },
  {
   "cell_type": "code",
   "execution_count": 66,
   "metadata": {},
   "outputs": [
    {
     "data": {
      "text/plain": [
       "10"
      ]
     },
     "execution_count": 66,
     "metadata": {},
     "output_type": "execute_result"
    }
   ],
   "source": [
    "df['zip_code'].nunique()"
   ]
  },
  {
   "cell_type": "code",
   "execution_count": 67,
   "metadata": {},
   "outputs": [],
   "source": [
    "df.drop(['address'],axis=1,inplace=True)"
   ]
  },
  {
   "cell_type": "markdown",
   "metadata": {},
   "source": [
    "# 5- Exploratory Data Analysis"
   ]
  },
  {
   "cell_type": "markdown",
   "metadata": {},
   "source": [
    "**Since we will be attempting to predict loan_status, we create a countplot as shown below.**"
   ]
  },
  {
   "cell_type": "code",
   "execution_count": 68,
   "metadata": {},
   "outputs": [
    {
     "data": {
      "text/plain": [
       "Text(0.5, 1.0, 'Countplot per Loan Status')"
      ]
     },
     "execution_count": 68,
     "metadata": {},
     "output_type": "execute_result"
    },
    {
     "data": {
      "image/png": "[encoded data removed]",
      "text/plain": [
       "<Figure size 504x360 with 1 Axes>"
      ]
     },
     "metadata": {
      "needs_background": "light"
     },
     "output_type": "display_data"
    }
   ],
   "source": [
    "plt.figure(figsize=(7,5))\n",
    "sns.countplot(x='loan_status', data=df)\n",
    "plt.xlabel('Loan Status')\n",
    "plt.ylabel('Count')\n",
    "plt.title('Countplot per Loan Status')"
   ]
  },
  {
   "cell_type": "markdown",
   "metadata": {},
   "source": [
    "**We create a bar plot showing the correlation of the numeric features to loan_status, but first, we convert the \"loan_status\" column to numeric values and save them in a new column called \"encoded_loan_status\".**"
   ]
  },
  {
   "cell_type": "code",
   "execution_count": 69,
   "metadata": {},
   "outputs": [],
   "source": [
    "le7=LabelEncoder()"
   ]
  },
  {
   "cell_type": "code",
   "execution_count": 70,
   "metadata": {},
   "outputs": [
    {
     "data": {
      "text/plain": [
       "LabelEncoder()"
      ]
     },
     "execution_count": 70,
     "metadata": {},
     "output_type": "execute_result"
    }
   ],
   "source": [
    "le7.fit(df['loan_status'])"
   ]
  },
  {
   "cell_type": "code",
   "execution_count": 71,
   "metadata": {},
   "outputs": [],
   "source": [
    "df['encoded_loan_status']=le7.transform(df['loan_status'])"
   ]
  },
  {
   "cell_type": "code",
   "execution_count": 72,
   "metadata": {},
   "outputs": [
    {
     "data": {
      "text/plain": [
       "Text(0.5, 1.0, 'Correlation of Features with Loan Status')"
      ]
     },
     "execution_count": 72,
     "metadata": {},
     "output_type": "execute_result"
    },
    {
     "data": {
      "image/png": "[encoded data removed]",
      "text/plain": [
       "<Figure size 576x360 with 1 Axes>"
      ]
     },
     "metadata": {
      "needs_background": "light"
     },
     "output_type": "display_data"
    }
   ],
   "source": [
    "plt.figure(figsize=(8,5))\n",
    "df.corr()['encoded_loan_status'].sort_values(ascending=False).drop('encoded_loan_status').plot(kind='bar')\n",
    "plt.xlabel('Feature')\n",
    "plt.ylabel('Correlation with Loan Status')\n",
    "plt.title('Correlation of Features with Loan Status')"
   ]
  },
  {
   "cell_type": "markdown",
   "metadata": {},
   "source": [
    "**We explore correlation between all continuous numeric variables using .corr() method.**"
   ]
  },
  {
   "cell_type": "code",
   "execution_count": 73,
   "metadata": {},
   "outputs": [
    {
     "data": {
      "text/html": [
       "<div>\n",
       "<style scoped>\n",
       "    .dataframe tbody tr th:only-of-type {\n",
       "        vertical-align: middle;\n",
       "    }\n",
       "\n",
       "    .dataframe tbody tr th {\n",
       "        vertical-align: top;\n",
       "    }\n",
       "\n",
       "    .dataframe thead th {\n",
       "        text-align: right;\n",
       "    }\n",
       "</style>\n",
       "<table border=\"1\" class=\"dataframe\">\n",
       "  <thead>\n",
       "    <tr style=\"text-align: right;\">\n",
       "      <th></th>\n",
       "      <th>loan_amnt</th>\n",
       "      <th>int_rate</th>\n",
       "      <th>installment</th>\n",
       "      <th>annual_inc</th>\n",
       "      <th>dti</th>\n",
       "      <th>open_acc</th>\n",
       "      <th>pub_rec</th>\n",
       "      <th>revol_bal</th>\n",
       "      <th>revol_util</th>\n",
       "      <th>total_acc</th>\n",
       "      <th>mort_acc</th>\n",
       "      <th>pub_rec_bankruptcies</th>\n",
       "    </tr>\n",
       "  </thead>\n",
       "  <tbody>\n",
       "    <tr>\n",
       "      <td>loan_amnt</td>\n",
       "      <td>1.000000</td>\n",
       "      <td>0.168599</td>\n",
       "      <td>0.953872</td>\n",
       "      <td>0.337364</td>\n",
       "      <td>0.016338</td>\n",
       "      <td>0.198347</td>\n",
       "      <td>-0.078143</td>\n",
       "      <td>0.328515</td>\n",
       "      <td>0.099581</td>\n",
       "      <td>0.223695</td>\n",
       "      <td>0.212363</td>\n",
       "      <td>-0.106669</td>\n",
       "    </tr>\n",
       "    <tr>\n",
       "      <td>int_rate</td>\n",
       "      <td>0.168599</td>\n",
       "      <td>1.000000</td>\n",
       "      <td>0.162442</td>\n",
       "      <td>-0.057035</td>\n",
       "      <td>0.078758</td>\n",
       "      <td>0.011753</td>\n",
       "      <td>0.060857</td>\n",
       "      <td>-0.011290</td>\n",
       "      <td>0.293195</td>\n",
       "      <td>-0.036749</td>\n",
       "      <td>-0.079228</td>\n",
       "      <td>0.057588</td>\n",
       "    </tr>\n",
       "    <tr>\n",
       "      <td>installment</td>\n",
       "      <td>0.953872</td>\n",
       "      <td>0.162442</td>\n",
       "      <td>1.000000</td>\n",
       "      <td>0.330855</td>\n",
       "      <td>0.015511</td>\n",
       "      <td>0.188815</td>\n",
       "      <td>-0.068220</td>\n",
       "      <td>0.316664</td>\n",
       "      <td>0.123635</td>\n",
       "      <td>0.202255</td>\n",
       "      <td>0.185295</td>\n",
       "      <td>-0.098748</td>\n",
       "    </tr>\n",
       "    <tr>\n",
       "      <td>annual_inc</td>\n",
       "      <td>0.337364</td>\n",
       "      <td>-0.057035</td>\n",
       "      <td>0.330855</td>\n",
       "      <td>1.000000</td>\n",
       "      <td>-0.081730</td>\n",
       "      <td>0.136620</td>\n",
       "      <td>-0.013718</td>\n",
       "      <td>0.299758</td>\n",
       "      <td>0.027920</td>\n",
       "      <td>0.193395</td>\n",
       "      <td>0.224332</td>\n",
       "      <td>-0.050145</td>\n",
       "    </tr>\n",
       "    <tr>\n",
       "      <td>dti</td>\n",
       "      <td>0.016338</td>\n",
       "      <td>0.078758</td>\n",
       "      <td>0.015511</td>\n",
       "      <td>-0.081730</td>\n",
       "      <td>1.000000</td>\n",
       "      <td>0.135907</td>\n",
       "      <td>-0.017820</td>\n",
       "      <td>0.063461</td>\n",
       "      <td>0.088023</td>\n",
       "      <td>0.101772</td>\n",
       "      <td>-0.025181</td>\n",
       "      <td>-0.014600</td>\n",
       "    </tr>\n",
       "    <tr>\n",
       "      <td>open_acc</td>\n",
       "      <td>0.198347</td>\n",
       "      <td>0.011753</td>\n",
       "      <td>0.188815</td>\n",
       "      <td>0.136620</td>\n",
       "      <td>0.135907</td>\n",
       "      <td>1.000000</td>\n",
       "      <td>-0.018799</td>\n",
       "      <td>0.221053</td>\n",
       "      <td>-0.131821</td>\n",
       "      <td>0.680745</td>\n",
       "      <td>0.104855</td>\n",
       "      <td>-0.028042</td>\n",
       "    </tr>\n",
       "    <tr>\n",
       "      <td>pub_rec</td>\n",
       "      <td>-0.078143</td>\n",
       "      <td>0.060857</td>\n",
       "      <td>-0.068220</td>\n",
       "      <td>-0.013718</td>\n",
       "      <td>-0.017820</td>\n",
       "      <td>-0.018799</td>\n",
       "      <td>1.000000</td>\n",
       "      <td>-0.101883</td>\n",
       "      <td>-0.076257</td>\n",
       "      <td>0.019481</td>\n",
       "      <td>0.011437</td>\n",
       "      <td>0.699408</td>\n",
       "    </tr>\n",
       "    <tr>\n",
       "      <td>revol_bal</td>\n",
       "      <td>0.328515</td>\n",
       "      <td>-0.011290</td>\n",
       "      <td>0.316664</td>\n",
       "      <td>0.299758</td>\n",
       "      <td>0.063461</td>\n",
       "      <td>0.221053</td>\n",
       "      <td>-0.101883</td>\n",
       "      <td>1.000000</td>\n",
       "      <td>0.226305</td>\n",
       "      <td>0.191474</td>\n",
       "      <td>0.189673</td>\n",
       "      <td>-0.124694</td>\n",
       "    </tr>\n",
       "    <tr>\n",
       "      <td>revol_util</td>\n",
       "      <td>0.099581</td>\n",
       "      <td>0.293195</td>\n",
       "      <td>0.123635</td>\n",
       "      <td>0.027920</td>\n",
       "      <td>0.088023</td>\n",
       "      <td>-0.131821</td>\n",
       "      <td>-0.076257</td>\n",
       "      <td>0.226305</td>\n",
       "      <td>1.000000</td>\n",
       "      <td>-0.104694</td>\n",
       "      <td>0.007021</td>\n",
       "      <td>-0.086751</td>\n",
       "    </tr>\n",
       "    <tr>\n",
       "      <td>total_acc</td>\n",
       "      <td>0.223695</td>\n",
       "      <td>-0.036749</td>\n",
       "      <td>0.202255</td>\n",
       "      <td>0.193395</td>\n",
       "      <td>0.101772</td>\n",
       "      <td>0.680745</td>\n",
       "      <td>0.019481</td>\n",
       "      <td>0.191474</td>\n",
       "      <td>-0.104694</td>\n",
       "      <td>1.000000</td>\n",
       "      <td>0.363243</td>\n",
       "      <td>0.041957</td>\n",
       "    </tr>\n",
       "    <tr>\n",
       "      <td>mort_acc</td>\n",
       "      <td>0.212363</td>\n",
       "      <td>-0.079228</td>\n",
       "      <td>0.185295</td>\n",
       "      <td>0.224332</td>\n",
       "      <td>-0.025181</td>\n",
       "      <td>0.104855</td>\n",
       "      <td>0.011437</td>\n",
       "      <td>0.189673</td>\n",
       "      <td>0.007021</td>\n",
       "      <td>0.363243</td>\n",
       "      <td>1.000000</td>\n",
       "      <td>0.026797</td>\n",
       "    </tr>\n",
       "    <tr>\n",
       "      <td>pub_rec_bankruptcies</td>\n",
       "      <td>-0.106669</td>\n",
       "      <td>0.057588</td>\n",
       "      <td>-0.098748</td>\n",
       "      <td>-0.050145</td>\n",
       "      <td>-0.014600</td>\n",
       "      <td>-0.028042</td>\n",
       "      <td>0.699408</td>\n",
       "      <td>-0.124694</td>\n",
       "      <td>-0.086751</td>\n",
       "      <td>0.041957</td>\n",
       "      <td>0.026797</td>\n",
       "      <td>1.000000</td>\n",
       "    </tr>\n",
       "  </tbody>\n",
       "</table>\n",
       "</div>"
      ],
      "text/plain": [
       "                      loan_amnt  int_rate  installment  annual_inc       dti  \\\n",
       "loan_amnt              1.000000  0.168599     0.953872    0.337364  0.016338   \n",
       "int_rate               0.168599  1.000000     0.162442   -0.057035  0.078758   \n",
       "installment            0.953872  0.162442     1.000000    0.330855  0.015511   \n",
       "annual_inc             0.337364 -0.057035     0.330855    1.000000 -0.081730   \n",
       "dti                    0.016338  0.078758     0.015511   -0.081730  1.000000   \n",
       "open_acc               0.198347  0.011753     0.188815    0.136620  0.135907   \n",
       "pub_rec               -0.078143  0.060857    -0.068220   -0.013718 -0.017820   \n",
       "revol_bal              0.328515 -0.011290     0.316664    0.299758  0.063461   \n",
       "revol_util             0.099581  0.293195     0.123635    0.027920  0.088023   \n",
       "total_acc              0.223695 -0.036749     0.202255    0.193395  0.101772   \n",
       "mort_acc               0.212363 -0.079228     0.185295    0.224332 -0.025181   \n",
       "pub_rec_bankruptcies  -0.106669  0.057588    -0.098748   -0.050145 -0.014600   \n",
       "\n",
       "                      open_acc   pub_rec  revol_bal  revol_util  total_acc  \\\n",
       "loan_amnt             0.198347 -0.078143   0.328515    0.099581   0.223695   \n",
       "int_rate              0.011753  0.060857  -0.011290    0.293195  -0.036749   \n",
       "installment           0.188815 -0.068220   0.316664    0.123635   0.202255   \n",
       "annual_inc            0.136620 -0.013718   0.299758    0.027920   0.193395   \n",
       "dti                   0.135907 -0.017820   0.063461    0.088023   0.101772   \n",
       "open_acc              1.000000 -0.018799   0.221053   -0.131821   0.680745   \n",
       "pub_rec              -0.018799  1.000000  -0.101883   -0.076257   0.019481   \n",
       "revol_bal             0.221053 -0.101883   1.000000    0.226305   0.191474   \n",
       "revol_util           -0.131821 -0.076257   0.226305    1.000000  -0.104694   \n",
       "total_acc             0.680745  0.019481   0.191474   -0.104694   1.000000   \n",
       "mort_acc              0.104855  0.011437   0.189673    0.007021   0.363243   \n",
       "pub_rec_bankruptcies -0.028042  0.699408  -0.124694   -0.086751   0.041957   \n",
       "\n",
       "                      mort_acc  pub_rec_bankruptcies  \n",
       "loan_amnt             0.212363             -0.106669  \n",
       "int_rate             -0.079228              0.057588  \n",
       "installment           0.185295             -0.098748  \n",
       "annual_inc            0.224332             -0.050145  \n",
       "dti                  -0.025181             -0.014600  \n",
       "open_acc              0.104855             -0.028042  \n",
       "pub_rec               0.011437              0.699408  \n",
       "revol_bal             0.189673             -0.124694  \n",
       "revol_util            0.007021             -0.086751  \n",
       "total_acc             0.363243              0.041957  \n",
       "mort_acc              1.000000              0.026797  \n",
       "pub_rec_bankruptcies  0.026797              1.000000  "
      ]
     },
     "execution_count": 73,
     "metadata": {},
     "output_type": "execute_result"
    }
   ],
   "source": [
    "df[['loan_amnt',  'int_rate', 'installment', 'annual_inc', 'dti', 'open_acc', 'pub_rec', 'revol_bal', 'revol_util','total_acc', 'mort_acc','pub_rec_bankruptcies']].corr()"
   ]
  },
  {
   "cell_type": "code",
   "execution_count": 74,
   "metadata": {},
   "outputs": [
    {
     "data": {
      "image/png": "[encoded data removed]",
      "text/plain": [
       "<Figure size 720x720 with 2 Axes>"
      ]
     },
     "metadata": {
      "needs_background": "light"
     },
     "output_type": "display_data"
    }
   ],
   "source": [
    "plt.figure(figsize=(10,10))\n",
    "\n",
    "corr=df[['loan_amnt',  'int_rate', 'installment', 'annual_inc', 'dti', 'open_acc', 'pub_rec', 'revol_bal', 'revol_util','total_acc', 'mort_acc','pub_rec_bankruptcies']].corr()\n",
    "\n",
    "mask = np.zeros_like(corr)\n",
    "mask[np.triu_indices_from(mask)] = True\n",
    "with sns.axes_style(\"white\"):\n",
    "    ax = sns.heatmap(corr, mask=mask, square=True,annot=True, cmap='viridis')"
   ]
  },
  {
   "cell_type": "markdown",
   "metadata": {},
   "source": [
    "**We create a histogram of the loan_amnt column.**"
   ]
  },
  {
   "cell_type": "code",
   "execution_count": 75,
   "metadata": {},
   "outputs": [
    {
     "data": {
      "text/plain": [
       "Text(0.5, 1.0, 'Distribution of Loan Amount')"
      ]
     },
     "execution_count": 75,
     "metadata": {},
     "output_type": "execute_result"
    },
    {
     "data": {
      "image/png": "[encoded data removed]",
      "text/plain": [
       "<Figure size 720x432 with 1 Axes>"
      ]
     },
     "metadata": {
      "needs_background": "light"
     },
     "output_type": "display_data"
    }
   ],
   "source": [
    "plt.figure(figsize=(10,6))\n",
    "sns.distplot(df['loan_amnt'],bins=50, kde=False, hist_kws=dict(edgecolor='black'))\n",
    "plt.xlabel('Loan Amount')\n",
    "plt.ylabel('Frequency')\n",
    "plt.title('Distribution of Loan Amount')"
   ]
  },
  {
   "cell_type": "markdown",
   "metadata": {},
   "source": [
    "**According to the heatmap, there is a perfect correlation between \"loan_amnt\" and the \"installment\" features. We explore this feature further, and print out their descriptions and perform a scatterplot between them.**"
   ]
  },
  {
   "cell_type": "code",
   "execution_count": 76,
   "metadata": {},
   "outputs": [
    {
     "data": {
      "text/plain": [
       "Text(0.5, 1.0, 'Installment vs. Loan Amount')"
      ]
     },
     "execution_count": 76,
     "metadata": {},
     "output_type": "execute_result"
    },
    {
     "data": {
      "image/png": "[encoded data removed]",
      "text/plain": [
       "<Figure size 576x432 with 1 Axes>"
      ]
     },
     "metadata": {
      "needs_background": "light"
     },
     "output_type": "display_data"
    }
   ],
   "source": [
    "plt.figure(figsize=(8,6))\n",
    "sns.scatterplot(x='loan_amnt', y='installment', data=df)\n",
    "plt.xlabel('Loan Amount')\n",
    "plt.ylabel('Installment')\n",
    "plt.title('Installment vs. Loan Amount')"
   ]
  },
  {
   "cell_type": "markdown",
   "metadata": {},
   "source": [
    "**We can see that if the listed amount of the loan applied for by the borrower increases, the monthly payment owed by the borrower will increase.**"
   ]
  },
  {
   "cell_type": "markdown",
   "metadata": {},
   "source": [
    "**We create a boxplot showing the relationship between the loan_status and the loan_amnt.**"
   ]
  },
  {
   "cell_type": "code",
   "execution_count": 77,
   "metadata": {},
   "outputs": [
    {
     "data": {
      "text/plain": [
       "Text(0.5, 1.0, 'Loan Amount vs. Loan Status')"
      ]
     },
     "execution_count": 77,
     "metadata": {},
     "output_type": "execute_result"
    },
    {
     "data": {
      "image/png": "[encoded data removed]",
      "text/plain": [
       "<Figure size 576x432 with 1 Axes>"
      ]
     },
     "metadata": {
      "needs_background": "light"
     },
     "output_type": "display_data"
    }
   ],
   "source": [
    "plt.figure(figsize=(8,6))\n",
    "sns.boxplot(x='loan_status', y='loan_amnt', data=df)\n",
    "plt.xlabel('Loan Status')\n",
    "plt.ylabel('Loan Amount')\n",
    "plt.title('Loan Amount vs. Loan Status')"
   ]
  },
  {
   "cell_type": "markdown",
   "metadata": {},
   "source": [
    "**We calculate the summary statistics for the loan amount, grouped by the loan_status.**"
   ]
  },
  {
   "cell_type": "code",
   "execution_count": 78,
   "metadata": {},
   "outputs": [
    {
     "data": {
      "text/html": [
       "<div>\n",
       "<style scoped>\n",
       "    .dataframe tbody tr th:only-of-type {\n",
       "        vertical-align: middle;\n",
       "    }\n",
       "\n",
       "    .dataframe tbody tr th {\n",
       "        vertical-align: top;\n",
       "    }\n",
       "\n",
       "    .dataframe thead th {\n",
       "        text-align: right;\n",
       "    }\n",
       "</style>\n",
       "<table border=\"1\" class=\"dataframe\">\n",
       "  <thead>\n",
       "    <tr style=\"text-align: right;\">\n",
       "      <th></th>\n",
       "      <th>count</th>\n",
       "      <th>mean</th>\n",
       "      <th>std</th>\n",
       "      <th>min</th>\n",
       "      <th>25%</th>\n",
       "      <th>50%</th>\n",
       "      <th>75%</th>\n",
       "      <th>max</th>\n",
       "    </tr>\n",
       "    <tr>\n",
       "      <th>loan_status</th>\n",
       "      <th></th>\n",
       "      <th></th>\n",
       "      <th></th>\n",
       "      <th></th>\n",
       "      <th></th>\n",
       "      <th></th>\n",
       "      <th></th>\n",
       "      <th></th>\n",
       "    </tr>\n",
       "  </thead>\n",
       "  <tbody>\n",
       "    <tr>\n",
       "      <td>Charged Off</td>\n",
       "      <td>77523.0</td>\n",
       "      <td>15132.578074</td>\n",
       "      <td>8503.989092</td>\n",
       "      <td>1000.0</td>\n",
       "      <td>8575.0</td>\n",
       "      <td>14000.0</td>\n",
       "      <td>20000.0</td>\n",
       "      <td>40000.0</td>\n",
       "    </tr>\n",
       "    <tr>\n",
       "      <td>Fully Paid</td>\n",
       "      <td>317696.0</td>\n",
       "      <td>13875.478681</td>\n",
       "      <td>8302.172723</td>\n",
       "      <td>500.0</td>\n",
       "      <td>7500.0</td>\n",
       "      <td>12000.0</td>\n",
       "      <td>19275.0</td>\n",
       "      <td>40000.0</td>\n",
       "    </tr>\n",
       "  </tbody>\n",
       "</table>\n",
       "</div>"
      ],
      "text/plain": [
       "                count          mean          std     min     25%      50%  \\\n",
       "loan_status                                                                 \n",
       "Charged Off   77523.0  15132.578074  8503.989092  1000.0  8575.0  14000.0   \n",
       "Fully Paid   317696.0  13875.478681  8302.172723   500.0  7500.0  12000.0   \n",
       "\n",
       "                 75%      max  \n",
       "loan_status                    \n",
       "Charged Off  20000.0  40000.0  \n",
       "Fully Paid   19275.0  40000.0  "
      ]
     },
     "execution_count": 78,
     "metadata": {},
     "output_type": "execute_result"
    }
   ],
   "source": [
    "df.groupby('loan_status').describe()['loan_amnt']"
   ]
  },
  {
   "cell_type": "markdown",
   "metadata": {},
   "source": [
    "**We explore the SubGrade column that LendingClub attributes to the loans. What are the unique possible grades and subgrades?**"
   ]
  },
  {
   "cell_type": "markdown",
   "metadata": {},
   "source": [
    "**We create a count plot per subgrade**"
   ]
  },
  {
   "cell_type": "code",
   "execution_count": 79,
   "metadata": {},
   "outputs": [
    {
     "data": {
      "text/plain": [
       "Text(0.5, 1.0, 'Countplot per Subgrade')"
      ]
     },
     "execution_count": 79,
     "metadata": {},
     "output_type": "execute_result"
    },
    {
     "data": {
      "image/png": "[encoded data removed]",
      "text/plain": [
       "<Figure size 864x432 with 1 Axes>"
      ]
     },
     "metadata": {
      "needs_background": "light"
     },
     "output_type": "display_data"
    }
   ],
   "source": [
    "plt.figure(figsize=(12,6))\n",
    "sns.countplot(x='sub_grade',data=df.sort_values(by='sub_grade'))\n",
    "plt.xlabel('Subgrade')\n",
    "plt.ylabel('Count')\n",
    "plt.title('Countplot per Subgrade')"
   ]
  },
  {
   "cell_type": "code",
   "execution_count": 80,
   "metadata": {},
   "outputs": [
    {
     "data": {
      "text/plain": [
       "Text(0.5, 1.0, 'Countplot per Subgrade vs. Loan Status')"
      ]
     },
     "execution_count": 80,
     "metadata": {},
     "output_type": "execute_result"
    },
    {
     "data": {
      "image/png": "[encoded data removed]",
      "text/plain": [
       "<Figure size 864x432 with 1 Axes>"
      ]
     },
     "metadata": {
      "needs_background": "light"
     },
     "output_type": "display_data"
    }
   ],
   "source": [
    "plt.figure(figsize=(12,6))\n",
    "sns.countplot(x='sub_grade',data=df.sort_values(by='sub_grade'),hue='loan_status')\n",
    "plt.xlabel('Subgrade')\n",
    "plt.ylabel('Count')\n",
    "plt.title('Countplot per Subgrade vs. Loan Status')"
   ]
  },
  {
   "cell_type": "markdown",
   "metadata": {},
   "source": [
    "**As we already have the \"encoded_sub_grade column\", we drop the \"sub_grade\" column**"
   ]
  },
  {
   "cell_type": "code",
   "execution_count": 81,
   "metadata": {},
   "outputs": [],
   "source": [
    "df.drop(['sub_grade'],axis=1,inplace=True)"
   ]
  },
  {
   "cell_type": "markdown",
   "metadata": {},
   "source": [
    "**As we already have the \"encoded_loan_status\" column, we drop the \"loan_status\" column**"
   ]
  },
  {
   "cell_type": "code",
   "execution_count": 82,
   "metadata": {},
   "outputs": [],
   "source": [
    "df.drop(['loan_status'],axis=1,inplace=True)"
   ]
  },
  {
   "cell_type": "markdown",
   "metadata": {},
   "source": [
    "# 6- Data Splitting "
   ]
  },
  {
   "cell_type": "code",
   "execution_count": 83,
   "metadata": {},
   "outputs": [],
   "source": [
    "X=df.drop(['encoded_loan_status'],axis=1).values\n",
    "y=df['encoded_loan_status'].values"
   ]
  },
  {
   "cell_type": "code",
   "execution_count": 84,
   "metadata": {},
   "outputs": [],
   "source": [
    "X_train, X_test, y_train, y_test = train_test_split(X, y, test_size=0.2, random_state=101)"
   ]
  },
  {
   "cell_type": "markdown",
   "metadata": {},
   "source": [
    "# 7- Scaling"
   ]
  },
  {
   "cell_type": "code",
   "execution_count": 85,
   "metadata": {},
   "outputs": [],
   "source": [
    "mms=MinMaxScaler()"
   ]
  },
  {
   "cell_type": "code",
   "execution_count": 86,
   "metadata": {},
   "outputs": [
    {
     "data": {
      "text/plain": [
       "MinMaxScaler(copy=True, feature_range=(0, 1))"
      ]
     },
     "execution_count": 86,
     "metadata": {},
     "output_type": "execute_result"
    }
   ],
   "source": [
    "mms.fit(X_train)"
   ]
  },
  {
   "cell_type": "code",
   "execution_count": 87,
   "metadata": {},
   "outputs": [],
   "source": [
    "X_train=mms.transform(X_train)"
   ]
  },
  {
   "cell_type": "code",
   "execution_count": 88,
   "metadata": {},
   "outputs": [],
   "source": [
    "X_test=mms.transform(X_test)"
   ]
  },
  {
   "cell_type": "markdown",
   "metadata": {},
   "source": [
    "# 8- Creating the Model"
   ]
  },
  {
   "cell_type": "code",
   "execution_count": 89,
   "metadata": {},
   "outputs": [
    {
     "data": {
      "text/plain": [
       "(316175, 21)"
      ]
     },
     "execution_count": 89,
     "metadata": {},
     "output_type": "execute_result"
    }
   ],
   "source": [
    "X_train.shape"
   ]
  },
  {
   "cell_type": "code",
   "execution_count": 127,
   "metadata": {},
   "outputs": [],
   "source": [
    "model=Sequential()\n",
    "\n",
    "model.add(Dense(21,activation='relu'))\n",
    "model.add(Dropout(0.2))\n",
    "\n",
    "model.add(Dense(21,activation='relu'))\n",
    "model.add(Dropout(0.2))\n",
    "\n",
    "model.add(Dense(1,activation='sigmoid'))\n",
    "\n",
    "model.compile(optimizer='adam',loss='binary_crossentropy')"
   ]
  },
  {
   "cell_type": "markdown",
   "metadata": {},
   "source": [
    "## 9- Training the Model"
   ]
  },
  {
   "cell_type": "code",
   "execution_count": 91,
   "metadata": {},
   "outputs": [],
   "source": [
    "es=EarlyStopping(monitor='val_loss', mode='min',patience=25,verbose=1)"
   ]
  },
  {
   "cell_type": "code",
   "execution_count": 128,
   "metadata": {},
   "outputs": [
    {
     "name": "stdout",
     "output_type": "stream",
     "text": [
      "Epoch 1/600\n",
      "4941/4941 [==============================] - 10s 2ms/step - loss: 0.3971 - val_loss: 0.3549\n",
      "Epoch 2/600\n",
      "4941/4941 [==============================] - 9s 2ms/step - loss: 0.3445 - val_loss: 0.3262\n",
      "Epoch 3/600\n",
      "4941/4941 [==============================] - 9s 2ms/step - loss: 0.3368 - val_loss: 0.3166\n",
      "Epoch 4/600\n",
      "4941/4941 [==============================] - 10s 2ms/step - loss: 0.3321 - val_loss: 0.3112\n",
      "Epoch 5/600\n",
      "4941/4941 [==============================] - 10s 2ms/step - loss: 0.3259 - val_loss: 0.3062\n",
      "Epoch 6/600\n",
      "4941/4941 [==============================] - 10s 2ms/step - loss: 0.3101 - val_loss: 0.2887\n",
      "Epoch 7/600\n",
      "4941/4941 [==============================] - 10s 2ms/step - loss: 0.2957 - val_loss: 0.2835\n",
      "Epoch 8/600\n",
      "4941/4941 [==============================] - 10s 2ms/step - loss: 0.2920 - val_loss: 0.2819\n",
      "Epoch 9/600\n",
      "4941/4941 [==============================] - 10s 2ms/step - loss: 0.2901 - val_loss: 0.2815\n",
      "Epoch 10/600\n",
      "4941/4941 [==============================] - 10s 2ms/step - loss: 0.2887 - val_loss: 0.2812\n",
      "Epoch 11/600\n",
      "4941/4941 [==============================] - 10s 2ms/step - loss: 0.2885 - val_loss: 0.2805\n",
      "Epoch 12/600\n",
      "4941/4941 [==============================] - 10s 2ms/step - loss: 0.2880 - val_loss: 0.2801\n",
      "Epoch 13/600\n",
      "4941/4941 [==============================] - 10s 2ms/step - loss: 0.2880 - val_loss: 0.2796\n",
      "Epoch 14/600\n",
      "4941/4941 [==============================] - 11s 2ms/step - loss: 0.2873 - val_loss: 0.2806\n",
      "Epoch 15/600\n",
      "4941/4941 [==============================] - 9s 2ms/step - loss: 0.2868 - val_loss: 0.2795\n",
      "Epoch 16/600\n",
      "4941/4941 [==============================] - 9s 2ms/step - loss: 0.2860 - val_loss: 0.2795\n",
      "Epoch 17/600\n",
      "4941/4941 [==============================] - 10s 2ms/step - loss: 0.2866 - val_loss: 0.2801\n",
      "Epoch 18/600\n",
      "4941/4941 [==============================] - 10s 2ms/step - loss: 0.2864 - val_loss: 0.2796\n",
      "Epoch 19/600\n",
      "4941/4941 [==============================] - 10s 2ms/step - loss: 0.2859 - val_loss: 0.2784\n",
      "Epoch 20/600\n",
      "4941/4941 [==============================] - 10s 2ms/step - loss: 0.2864 - val_loss: 0.2798\n",
      "Epoch 21/600\n",
      "4941/4941 [==============================] - 11s 2ms/step - loss: 0.2859 - val_loss: 0.2789\n",
      "Epoch 22/600\n",
      "4941/4941 [==============================] - 11s 2ms/step - loss: 0.2854 - val_loss: 0.2800\n",
      "Epoch 23/600\n",
      "4941/4941 [==============================] - 11s 2ms/step - loss: 0.2860 - val_loss: 0.2789\n",
      "Epoch 24/600\n",
      "4941/4941 [==============================] - 11s 2ms/step - loss: 0.2857 - val_loss: 0.2804\n",
      "Epoch 25/600\n",
      "4941/4941 [==============================] - 10s 2ms/step - loss: 0.2856 - val_loss: 0.2783\n",
      "Epoch 26/600\n",
      "4941/4941 [==============================] - 10s 2ms/step - loss: 0.2852 - val_loss: 0.2785\n",
      "Epoch 27/600\n",
      "4941/4941 [==============================] - 10s 2ms/step - loss: 0.2851 - val_loss: 0.2787\n",
      "Epoch 28/600\n",
      "4941/4941 [==============================] - 10s 2ms/step - loss: 0.2855 - val_loss: 0.2780\n",
      "Epoch 29/600\n",
      "4941/4941 [==============================] - 10s 2ms/step - loss: 0.2857 - val_loss: 0.2786\n",
      "Epoch 30/600\n",
      "4941/4941 [==============================] - 11s 2ms/step - loss: 0.2855 - val_loss: 0.2789\n",
      "Epoch 31/600\n",
      "4941/4941 [==============================] - 10s 2ms/step - loss: 0.2849 - val_loss: 0.2784\n",
      "Epoch 32/600\n",
      "4941/4941 [==============================] - 11s 2ms/step - loss: 0.2853 - val_loss: 0.2786\n",
      "Epoch 33/600\n",
      "4941/4941 [==============================] - 11s 2ms/step - loss: 0.2852 - val_loss: 0.2788\n",
      "Epoch 34/600\n",
      "4941/4941 [==============================] - 10s 2ms/step - loss: 0.2853 - val_loss: 0.2773\n",
      "Epoch 35/600\n",
      "4941/4941 [==============================] - 10s 2ms/step - loss: 0.2845 - val_loss: 0.2807\n",
      "Epoch 36/600\n",
      "4941/4941 [==============================] - 11s 2ms/step - loss: 0.2847 - val_loss: 0.2804\n",
      "Epoch 37/600\n",
      "4941/4941 [==============================] - 11s 2ms/step - loss: 0.2848 - val_loss: 0.2784\n",
      "Epoch 38/600\n",
      "4941/4941 [==============================] - 10s 2ms/step - loss: 0.2852 - val_loss: 0.2785\n",
      "Epoch 39/600\n",
      "4941/4941 [==============================] - 11s 2ms/step - loss: 0.2848 - val_loss: 0.2781\n",
      "Epoch 40/600\n",
      "4941/4941 [==============================] - 11s 2ms/step - loss: 0.2849 - val_loss: 0.2790\n",
      "Epoch 41/600\n",
      "4941/4941 [==============================] - 11s 2ms/step - loss: 0.2848 - val_loss: 0.2780\n",
      "Epoch 42/600\n",
      "4941/4941 [==============================] - 11s 2ms/step - loss: 0.2851 - val_loss: 0.2779\n",
      "Epoch 43/600\n",
      "4941/4941 [==============================] - 10s 2ms/step - loss: 0.2848 - val_loss: 0.2788\n",
      "Epoch 44/600\n",
      "4941/4941 [==============================] - 10s 2ms/step - loss: 0.2849 - val_loss: 0.2782\n",
      "Epoch 45/600\n",
      "4941/4941 [==============================] - 10s 2ms/step - loss: 0.2847 - val_loss: 0.2774\n",
      "Epoch 46/600\n",
      "4941/4941 [==============================] - 10s 2ms/step - loss: 0.2848 - val_loss: 0.2791\n",
      "Epoch 47/600\n",
      "4941/4941 [==============================] - 10s 2ms/step - loss: 0.2844 - val_loss: 0.2783\n",
      "Epoch 48/600\n",
      "4941/4941 [==============================] - 10s 2ms/step - loss: 0.2843 - val_loss: 0.2776\n",
      "Epoch 49/600\n",
      "4941/4941 [==============================] - 10s 2ms/step - loss: 0.2845 - val_loss: 0.2776\n",
      "Epoch 50/600\n",
      "4941/4941 [==============================] - 11s 2ms/step - loss: 0.2843 - val_loss: 0.2775\n",
      "Epoch 51/600\n",
      "4941/4941 [==============================] - 10s 2ms/step - loss: 0.2849 - val_loss: 0.2773\n",
      "Epoch 52/600\n",
      "4941/4941 [==============================] - 11s 2ms/step - loss: 0.2845 - val_loss: 0.2773\n",
      "Epoch 53/600\n",
      "4941/4941 [==============================] - 9s 2ms/step - loss: 0.2847 - val_loss: 0.2770\n",
      "Epoch 54/600\n",
      "4941/4941 [==============================] - 10s 2ms/step - loss: 0.2846 - val_loss: 0.2774\n",
      "Epoch 55/600\n",
      "4941/4941 [==============================] - 10s 2ms/step - loss: 0.2841 - val_loss: 0.2777\n",
      "Epoch 56/600\n",
      "4941/4941 [==============================] - 10s 2ms/step - loss: 0.2842 - val_loss: 0.2777\n",
      "Epoch 57/600\n",
      "4941/4941 [==============================] - 10s 2ms/step - loss: 0.2843 - val_loss: 0.2775\n",
      "Epoch 58/600\n",
      "4941/4941 [==============================] - 10s 2ms/step - loss: 0.2843 - val_loss: 0.2777\n",
      "Epoch 59/600\n",
      "4941/4941 [==============================] - 10s 2ms/step - loss: 0.2842 - val_loss: 0.2768\n",
      "Epoch 60/600\n",
      "4941/4941 [==============================] - 10s 2ms/step - loss: 0.2841 - val_loss: 0.2771\n",
      "Epoch 61/600\n",
      "4941/4941 [==============================] - 9s 2ms/step - loss: 0.2839 - val_loss: 0.2776\n",
      "Epoch 62/600\n",
      "4941/4941 [==============================] - 8s 2ms/step - loss: 0.2839 - val_loss: 0.2769\n",
      "Epoch 63/600\n",
      "4941/4941 [==============================] - 9s 2ms/step - loss: 0.2845 - val_loss: 0.2793\n",
      "Epoch 64/600\n",
      "4941/4941 [==============================] - 8s 2ms/step - loss: 0.2841 - val_loss: 0.2766\n",
      "Epoch 65/600\n",
      "4941/4941 [==============================] - 10s 2ms/step - loss: 0.2840 - val_loss: 0.2775\n",
      "Epoch 66/600\n",
      "4941/4941 [==============================] - 10s 2ms/step - loss: 0.2840 - val_loss: 0.2778\n",
      "Epoch 67/600\n",
      "4941/4941 [==============================] - 8s 2ms/step - loss: 0.2841 - val_loss: 0.2776\n",
      "Epoch 68/600\n",
      "4941/4941 [==============================] - 9s 2ms/step - loss: 0.2839 - val_loss: 0.2770\n",
      "Epoch 69/600\n",
      "4941/4941 [==============================] - 10s 2ms/step - loss: 0.2839 - val_loss: 0.2771\n",
      "Epoch 70/600\n",
      "4941/4941 [==============================] - 9s 2ms/step - loss: 0.2838 - val_loss: 0.2774\n",
      "Epoch 71/600\n",
      "4941/4941 [==============================] - 9s 2ms/step - loss: 0.2839 - val_loss: 0.2765\n",
      "Epoch 72/600\n",
      "4941/4941 [==============================] - 8s 2ms/step - loss: 0.2841 - val_loss: 0.2789\n",
      "Epoch 73/600\n",
      "4941/4941 [==============================] - 8s 2ms/step - loss: 0.2836 - val_loss: 0.2769\n",
      "Epoch 74/600\n",
      "4941/4941 [==============================] - 10s 2ms/step - loss: 0.2836 - val_loss: 0.2775\n",
      "Epoch 75/600\n",
      "4941/4941 [==============================] - 10s 2ms/step - loss: 0.2836 - val_loss: 0.2776\n",
      "Epoch 76/600\n",
      "4941/4941 [==============================] - 9s 2ms/step - loss: 0.2838 - val_loss: 0.2772\n",
      "Epoch 77/600\n",
      "4941/4941 [==============================] - 9s 2ms/step - loss: 0.2842 - val_loss: 0.2769\n",
      "Epoch 78/600\n",
      "4941/4941 [==============================] - 9s 2ms/step - loss: 0.2838 - val_loss: 0.2772\n",
      "Epoch 79/600\n",
      "4941/4941 [==============================] - 9s 2ms/step - loss: 0.2836 - val_loss: 0.2775\n",
      "Epoch 80/600\n",
      "4941/4941 [==============================] - 8s 2ms/step - loss: 0.2837 - val_loss: 0.2778\n",
      "Epoch 81/600\n",
      "4941/4941 [==============================] - 8s 2ms/step - loss: 0.2839 - val_loss: 0.2778\n",
      "Epoch 82/600\n",
      "4941/4941 [==============================] - 8s 2ms/step - loss: 0.2837 - val_loss: 0.2774\n",
      "Epoch 83/600\n",
      "4941/4941 [==============================] - 9s 2ms/step - loss: 0.2837 - val_loss: 0.2767\n",
      "Epoch 84/600\n",
      "4941/4941 [==============================] - 8s 2ms/step - loss: 0.2834 - val_loss: 0.2770\n",
      "Epoch 85/600\n",
      "4941/4941 [==============================] - 9s 2ms/step - loss: 0.2834 - val_loss: 0.2776\n",
      "Epoch 86/600\n",
      "4941/4941 [==============================] - 10s 2ms/step - loss: 0.2838 - val_loss: 0.2774\n",
      "Epoch 87/600\n",
      "4941/4941 [==============================] - 11s 2ms/step - loss: 0.2836 - val_loss: 0.2771\n",
      "Epoch 88/600\n",
      "4941/4941 [==============================] - 10s 2ms/step - loss: 0.2831 - val_loss: 0.2768\n",
      "Epoch 89/600\n",
      "4941/4941 [==============================] - 10s 2ms/step - loss: 0.2839 - val_loss: 0.2778\n",
      "Epoch 90/600\n",
      "4941/4941 [==============================] - 10s 2ms/step - loss: 0.2841 - val_loss: 0.2782\n",
      "Epoch 91/600\n",
      "4941/4941 [==============================] - 10s 2ms/step - loss: 0.2842 - val_loss: 0.2766\n",
      "Epoch 92/600\n",
      "4941/4941 [==============================] - 10s 2ms/step - loss: 0.2832 - val_loss: 0.2775\n",
      "Epoch 93/600\n",
      "4941/4941 [==============================] - 10s 2ms/step - loss: 0.2836 - val_loss: 0.2773\n",
      "Epoch 94/600\n",
      "4941/4941 [==============================] - 9s 2ms/step - loss: 0.2833 - val_loss: 0.2763\n",
      "Epoch 95/600\n",
      "4941/4941 [==============================] - 10s 2ms/step - loss: 0.2831 - val_loss: 0.2771\n",
      "Epoch 96/600\n",
      "4941/4941 [==============================] - 10s 2ms/step - loss: 0.2842 - val_loss: 0.2767\n",
      "Epoch 97/600\n",
      "4941/4941 [==============================] - 9s 2ms/step - loss: 0.2838 - val_loss: 0.2765\n",
      "Epoch 98/600\n",
      "4941/4941 [==============================] - 10s 2ms/step - loss: 0.2833 - val_loss: 0.2772\n",
      "Epoch 99/600\n",
      "4941/4941 [==============================] - 10s 2ms/step - loss: 0.2834 - val_loss: 0.2764\n",
      "Epoch 100/600\n",
      "4941/4941 [==============================] - 10s 2ms/step - loss: 0.2831 - val_loss: 0.2779\n",
      "Epoch 101/600\n",
      "4941/4941 [==============================] - 10s 2ms/step - loss: 0.2835 - val_loss: 0.2764\n",
      "Epoch 102/600\n",
      "4941/4941 [==============================] - 9s 2ms/step - loss: 0.2833 - val_loss: 0.2770\n",
      "Epoch 103/600\n",
      "4941/4941 [==============================] - 10s 2ms/step - loss: 0.2837 - val_loss: 0.2780\n",
      "Epoch 104/600\n",
      "4941/4941 [==============================] - 10s 2ms/step - loss: 0.2838 - val_loss: 0.2772\n",
      "Epoch 105/600\n",
      "4941/4941 [==============================] - 9s 2ms/step - loss: 0.2837 - val_loss: 0.2768\n",
      "Epoch 106/600\n",
      "4941/4941 [==============================] - 10s 2ms/step - loss: 0.2833 - val_loss: 0.2773\n",
      "Epoch 107/600\n",
      "4941/4941 [==============================] - 10s 2ms/step - loss: 0.2838 - val_loss: 0.2766\n",
      "Epoch 108/600\n",
      "4941/4941 [==============================] - 10s 2ms/step - loss: 0.2835 - val_loss: 0.2762\n",
      "Epoch 109/600\n",
      "4941/4941 [==============================] - 9s 2ms/step - loss: 0.2837 - val_loss: 0.2775\n",
      "Epoch 110/600\n",
      "4941/4941 [==============================] - 11s 2ms/step - loss: 0.2833 - val_loss: 0.2760\n",
      "Epoch 111/600\n",
      "4941/4941 [==============================] - 11s 2ms/step - loss: 0.2835 - val_loss: 0.2764\n",
      "Epoch 112/600\n",
      "4941/4941 [==============================] - 11s 2ms/step - loss: 0.2831 - val_loss: 0.2761\n",
      "Epoch 113/600\n",
      "4941/4941 [==============================] - 10s 2ms/step - loss: 0.2831 - val_loss: 0.2770\n",
      "Epoch 114/600\n",
      "4941/4941 [==============================] - 10s 2ms/step - loss: 0.2833 - val_loss: 0.2767\n",
      "Epoch 115/600\n",
      "4941/4941 [==============================] - 10s 2ms/step - loss: 0.2839 - val_loss: 0.2772\n",
      "Epoch 116/600\n",
      "4941/4941 [==============================] - 11s 2ms/step - loss: 0.2834 - val_loss: 0.2768\n",
      "Epoch 117/600\n",
      "4941/4941 [==============================] - 11s 2ms/step - loss: 0.2830 - val_loss: 0.2766\n",
      "Epoch 118/600\n",
      "4941/4941 [==============================] - 11s 2ms/step - loss: 0.2833 - val_loss: 0.2763\n",
      "Epoch 119/600\n",
      "4941/4941 [==============================] - 11s 2ms/step - loss: 0.2838 - val_loss: 0.2765\n",
      "Epoch 120/600\n",
      "4941/4941 [==============================] - 11s 2ms/step - loss: 0.2833 - val_loss: 0.2769\n",
      "Epoch 121/600\n",
      "4941/4941 [==============================] - 11s 2ms/step - loss: 0.2835 - val_loss: 0.2772\n",
      "Epoch 122/600\n",
      "4941/4941 [==============================] - 10s 2ms/step - loss: 0.2834 - val_loss: 0.2771\n",
      "Epoch 123/600\n",
      "4941/4941 [==============================] - 10s 2ms/step - loss: 0.2836 - val_loss: 0.2771\n",
      "Epoch 124/600\n",
      "4941/4941 [==============================] - 11s 2ms/step - loss: 0.2831 - val_loss: 0.2772\n",
      "Epoch 125/600\n",
      "4941/4941 [==============================] - 9s 2ms/step - loss: 0.2843 - val_loss: 0.2777\n",
      "Epoch 126/600\n",
      "4941/4941 [==============================] - 9s 2ms/step - loss: 0.2835 - val_loss: 0.2780\n",
      "Epoch 127/600\n",
      "4941/4941 [==============================] - 9s 2ms/step - loss: 0.2830 - val_loss: 0.2764\n",
      "Epoch 128/600\n",
      "4941/4941 [==============================] - 10s 2ms/step - loss: 0.2835 - val_loss: 0.2776\n",
      "Epoch 129/600\n",
      "4941/4941 [==============================] - 9s 2ms/step - loss: 0.2830 - val_loss: 0.2768\n",
      "Epoch 130/600\n",
      "4941/4941 [==============================] - 10s 2ms/step - loss: 0.2836 - val_loss: 0.2772\n",
      "Epoch 131/600\n",
      "4941/4941 [==============================] - 9s 2ms/step - loss: 0.2834 - val_loss: 0.2759\n",
      "Epoch 132/600\n",
      "4941/4941 [==============================] - 10s 2ms/step - loss: 0.2833 - val_loss: 0.2765\n",
      "Epoch 133/600\n",
      "4941/4941 [==============================] - 10s 2ms/step - loss: 0.2834 - val_loss: 0.2776\n",
      "Epoch 134/600\n",
      "4941/4941 [==============================] - 10s 2ms/step - loss: 0.2836 - val_loss: 0.2765\n",
      "Epoch 135/600\n",
      "4941/4941 [==============================] - 10s 2ms/step - loss: 0.2833 - val_loss: 0.2765\n",
      "Epoch 136/600\n",
      "4941/4941 [==============================] - 10s 2ms/step - loss: 0.2836 - val_loss: 0.2769\n",
      "Epoch 137/600\n",
      "4941/4941 [==============================] - 10s 2ms/step - loss: 0.2830 - val_loss: 0.2765\n",
      "Epoch 138/600\n",
      "4941/4941 [==============================] - 9s 2ms/step - loss: 0.2831 - val_loss: 0.2771\n",
      "Epoch 139/600\n",
      "4941/4941 [==============================] - 10s 2ms/step - loss: 0.2833 - val_loss: 0.2773\n",
      "Epoch 140/600\n",
      "4941/4941 [==============================] - 9s 2ms/step - loss: 0.2834 - val_loss: 0.2766\n",
      "Epoch 141/600\n",
      "4941/4941 [==============================] - 10s 2ms/step - loss: 0.2834 - val_loss: 0.2769\n",
      "Epoch 142/600\n",
      "4941/4941 [==============================] - 10s 2ms/step - loss: 0.2835 - val_loss: 0.2760\n",
      "Epoch 143/600\n",
      "4941/4941 [==============================] - 10s 2ms/step - loss: 0.2831 - val_loss: 0.2769\n",
      "Epoch 144/600\n",
      "4941/4941 [==============================] - 10s 2ms/step - loss: 0.2835 - val_loss: 0.2767\n",
      "Epoch 145/600\n",
      "4941/4941 [==============================] - 10s 2ms/step - loss: 0.2829 - val_loss: 0.2770\n",
      "Epoch 146/600\n",
      "4941/4941 [==============================] - 9s 2ms/step - loss: 0.2831 - val_loss: 0.2761\n",
      "Epoch 147/600\n",
      "4941/4941 [==============================] - 10s 2ms/step - loss: 0.2834 - val_loss: 0.2767\n",
      "Epoch 148/600\n",
      "4941/4941 [==============================] - 10s 2ms/step - loss: 0.2833 - val_loss: 0.2764\n",
      "Epoch 149/600\n",
      "4941/4941 [==============================] - 10s 2ms/step - loss: 0.2828 - val_loss: 0.2763\n",
      "Epoch 150/600\n",
      "4941/4941 [==============================] - 10s 2ms/step - loss: 0.2833 - val_loss: 0.2773\n",
      "Epoch 151/600\n",
      "4941/4941 [==============================] - 11s 2ms/step - loss: 0.2835 - val_loss: 0.2764\n",
      "Epoch 152/600\n",
      "4941/4941 [==============================] - 11s 2ms/step - loss: 0.2832 - val_loss: 0.2761\n",
      "Epoch 153/600\n",
      "4941/4941 [==============================] - 9s 2ms/step - loss: 0.2830 - val_loss: 0.2770\n",
      "Epoch 154/600\n",
      "4941/4941 [==============================] - 10s 2ms/step - loss: 0.2835 - val_loss: 0.2774\n",
      "Epoch 155/600\n",
      "4941/4941 [==============================] - 9s 2ms/step - loss: 0.2826 - val_loss: 0.2765\n",
      "Epoch 156/600\n",
      "4941/4941 [==============================] - 10s 2ms/step - loss: 0.2834 - val_loss: 0.2761\n"
     ]
    },
    {
     "name": "stdout",
     "output_type": "stream",
     "text": [
      "Epoch 00156: early stopping\n"
     ]
    },
    {
     "data": {
      "text/plain": [
       "<tensorflow.python.keras.callbacks.History at 0x224d657e4c8>"
      ]
     },
     "execution_count": 128,
     "metadata": {},
     "output_type": "execute_result"
    }
   ],
   "source": [
    "model.fit(X_train, y_train, validation_data=(X_test,y_test), epochs=600, batch_size=64, callbacks=[es])"
   ]
  },
  {
   "cell_type": "markdown",
   "metadata": {},
   "source": [
    "# 10- Evaluating Model Performance"
   ]
  },
  {
   "cell_type": "markdown",
   "metadata": {},
   "source": [
    "### 10-1- Training Loss per Epoch"
   ]
  },
  {
   "cell_type": "code",
   "execution_count": 129,
   "metadata": {},
   "outputs": [],
   "source": [
    "df_loss=pd.DataFrame(model.history.history)"
   ]
  },
  {
   "cell_type": "code",
   "execution_count": 130,
   "metadata": {},
   "outputs": [
    {
     "data": {
      "text/html": [
       "<div>\n",
       "<style scoped>\n",
       "    .dataframe tbody tr th:only-of-type {\n",
       "        vertical-align: middle;\n",
       "    }\n",
       "\n",
       "    .dataframe tbody tr th {\n",
       "        vertical-align: top;\n",
       "    }\n",
       "\n",
       "    .dataframe thead th {\n",
       "        text-align: right;\n",
       "    }\n",
       "</style>\n",
       "<table border=\"1\" class=\"dataframe\">\n",
       "  <thead>\n",
       "    <tr style=\"text-align: right;\">\n",
       "      <th></th>\n",
       "      <th>loss</th>\n",
       "      <th>val_loss</th>\n",
       "    </tr>\n",
       "  </thead>\n",
       "  <tbody>\n",
       "    <tr>\n",
       "      <td>0</td>\n",
       "      <td>0.397116</td>\n",
       "      <td>0.354871</td>\n",
       "    </tr>\n",
       "    <tr>\n",
       "      <td>1</td>\n",
       "      <td>0.344499</td>\n",
       "      <td>0.326242</td>\n",
       "    </tr>\n",
       "    <tr>\n",
       "      <td>2</td>\n",
       "      <td>0.336821</td>\n",
       "      <td>0.316614</td>\n",
       "    </tr>\n",
       "    <tr>\n",
       "      <td>3</td>\n",
       "      <td>0.332066</td>\n",
       "      <td>0.311220</td>\n",
       "    </tr>\n",
       "    <tr>\n",
       "      <td>4</td>\n",
       "      <td>0.325900</td>\n",
       "      <td>0.306170</td>\n",
       "    </tr>\n",
       "  </tbody>\n",
       "</table>\n",
       "</div>"
      ],
      "text/plain": [
       "       loss  val_loss\n",
       "0  0.397116  0.354871\n",
       "1  0.344499  0.326242\n",
       "2  0.336821  0.316614\n",
       "3  0.332066  0.311220\n",
       "4  0.325900  0.306170"
      ]
     },
     "execution_count": 130,
     "metadata": {},
     "output_type": "execute_result"
    }
   ],
   "source": [
    "df_loss.head()"
   ]
  },
  {
   "cell_type": "code",
   "execution_count": 131,
   "metadata": {},
   "outputs": [
    {
     "data": {
      "text/plain": [
       "Text(0.5, 1.0, 'Training Loss per Epoch')"
      ]
     },
     "execution_count": 131,
     "metadata": {},
     "output_type": "execute_result"
    },
    {
     "data": {
      "image/png": "[encoded data removed]",
      "text/plain": [
       "<Figure size 576x288 with 1 Axes>"
      ]
     },
     "metadata": {
      "needs_background": "light"
     },
     "output_type": "display_data"
    }
   ],
   "source": [
    "df_loss.plot(figsize=(8, 4))\n",
    "plt.xlabel('Epoch')\n",
    "plt.ylabel('Training Loss')\n",
    "plt.title('Training Loss per Epoch')"
   ]
  },
  {
   "cell_type": "markdown",
   "metadata": {},
   "source": [
    "### 10-2- Further Evaluations"
   ]
  },
  {
   "cell_type": "code",
   "execution_count": 132,
   "metadata": {},
   "outputs": [],
   "source": [
    "predictions=model.predict_classes(X_test)"
   ]
  },
  {
   "cell_type": "code",
   "execution_count": 133,
   "metadata": {},
   "outputs": [
    {
     "name": "stdout",
     "output_type": "stream",
     "text": [
      "[[ 6764  8894]\n",
      " [   28 63358]]\n",
      "\n",
      "\n",
      "              precision    recall  f1-score   support\n",
      "\n",
      "           0       1.00      0.43      0.60     15658\n",
      "           1       0.88      1.00      0.93     63386\n",
      "\n",
      "    accuracy                           0.89     79044\n",
      "   macro avg       0.94      0.72      0.77     79044\n",
      "weighted avg       0.90      0.89      0.87     79044\n",
      "\n",
      "\n",
      "\n",
      "Accuracy Score:  0.8871261575831183\n"
     ]
    }
   ],
   "source": [
    "print(confusion_matrix(y_test,predictions))\n",
    "print('\\n')\n",
    "print(classification_report(y_test,predictions))\n",
    "print('\\n')\n",
    "print('Accuracy Score: ',accuracy_score(y_test,predictions))"
   ]
  },
  {
   "cell_type": "markdown",
   "metadata": {},
   "source": [
    "**The accuracy of our designed model is 89%.**"
   ]
  },
  {
   "cell_type": "markdown",
   "metadata": {},
   "source": [
    "### 10-3- Predicting on a Random Customer"
   ]
  },
  {
   "cell_type": "markdown",
   "metadata": {},
   "source": [
    "**Given the customer below, should we offer this person a loan?**"
   ]
  },
  {
   "cell_type": "code",
   "execution_count": 134,
   "metadata": {},
   "outputs": [],
   "source": [
    "from random import randint"
   ]
  },
  {
   "cell_type": "code",
   "execution_count": 135,
   "metadata": {},
   "outputs": [],
   "source": [
    "random_customer=randint(0,df.shape[0])"
   ]
  },
  {
   "cell_type": "code",
   "execution_count": 136,
   "metadata": {},
   "outputs": [
    {
     "data": {
      "text/plain": [
       "345172"
      ]
     },
     "execution_count": 136,
     "metadata": {},
     "output_type": "execute_result"
    }
   ],
   "source": [
    "random_customer"
   ]
  },
  {
   "cell_type": "code",
   "execution_count": 137,
   "metadata": {},
   "outputs": [],
   "source": [
    "customer_data=df.drop(['encoded_loan_status'],axis=1).loc[random_customer]"
   ]
  },
  {
   "cell_type": "code",
   "execution_count": 138,
   "metadata": {},
   "outputs": [
    {
     "data": {
      "text/plain": [
       "(316175, 21)"
      ]
     },
     "execution_count": 138,
     "metadata": {},
     "output_type": "execute_result"
    }
   ],
   "source": [
    "X_train.shape"
   ]
  },
  {
   "cell_type": "code",
   "execution_count": 139,
   "metadata": {},
   "outputs": [],
   "source": [
    "customer_data=customer_data.values.reshape(-1,21)"
   ]
  },
  {
   "cell_type": "code",
   "execution_count": 140,
   "metadata": {},
   "outputs": [],
   "source": [
    "customer_data=mms.transform(customer_data)"
   ]
  },
  {
   "cell_type": "code",
   "execution_count": 141,
   "metadata": {},
   "outputs": [
    {
     "data": {
      "text/plain": [
       "array([[1]])"
      ]
     },
     "execution_count": 141,
     "metadata": {},
     "output_type": "execute_result"
    }
   ],
   "source": [
    "model.predict_classes(customer_data)"
   ]
  },
  {
   "cell_type": "markdown",
   "metadata": {},
   "source": [
    "**We see that our model predicts that the randomly selected customer pays back his loan.**"
   ]
  },
  {
   "cell_type": "markdown",
   "metadata": {},
   "source": [
    "**Now we check, did this person actually end up paying back their loan?**"
   ]
  },
  {
   "cell_type": "code",
   "execution_count": 142,
   "metadata": {},
   "outputs": [
    {
     "data": {
      "text/plain": [
       "1"
      ]
     },
     "execution_count": 142,
     "metadata": {},
     "output_type": "execute_result"
    }
   ],
   "source": [
    "df.loc[random_customer]['encoded_loan_status']"
   ]
  },
  {
   "cell_type": "markdown",
   "metadata": {},
   "source": [
    "**And we see that our model prediction is accurate.**"
   ]
  }
 ],
 "metadata": {
  "kernelspec": {
   "display_name": "Python 3",
   "language": "python",
   "name": "python3"
  },
  "language_info": {
   "codemirror_mode": {
    "name": "ipython",
    "version": 3
   },
   "file_extension": ".py",
   "mimetype": "text/x-python",
   "name": "python",
   "nbconvert_exporter": "python",
   "pygments_lexer": "ipython3",
   "version": "3.7.4"
  }
 },
 "nbformat": 4,
 "nbformat_minor": 2
}
